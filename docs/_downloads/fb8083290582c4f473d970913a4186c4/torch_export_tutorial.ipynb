{
  "cells": [
    {
      "cell_type": "code",
      "execution_count": null,
      "metadata": {
        "collapsed": false
      },
      "outputs": [],
      "source": [
        "# Google Colab\uc5d0\uc11c \ub178\ud2b8\ubd81\uc744 \uc2e4\ud589\ud558\uc2e4 \ub54c\uc5d0\ub294 \n# https://tutorials.pytorch.kr/beginner/colab \ub97c \ucc38\uace0\ud558\uc138\uc694.\n%matplotlib inline"
      ]
    },
    {
      "cell_type": "markdown",
      "metadata": {},
      "source": [
        "torch.export Tutorial\n=====================\n\n**Author:** William Wen, Zhengxu Chen, Angela Yi\n"
      ]
    },
    {
      "cell_type": "markdown",
      "metadata": {},
      "source": [
        "```{=html}\n<div style=\"background-color: #e94f3b; color: #fff; font-weight: 700; padding-left: 10px; padding-top: 5px; padding-bottom: 5px\"><strong>WARNING:</strong></div>\n```\n```{=html}\n<div style=\"background-color: #f3f4f7; padding-left: 10px; padding-top: 10px; padding-bottom: 10px; padding-right: 10px\">\n```\n```{=html}\n<p><code>torch.export</code> and its related features are in prototype status and are subject to backwards compatibilitybreaking changes. This tutorial provides a snapshot of <code>torch.export</code> usage as of PyTorch 2.3.</p>\n```\n```{=html}\n</div>\n```\n`torch.export`{.interpreted-text role=\"func\"} is the PyTorch 2.X way to\nexport PyTorch models into standardized model representations, intended\nto be run on different (i.e. Python-less) environments. The official\ndocumentation can be found\n[here](https://pytorch.org/docs/main/export.html).\n\nIn this tutorial, you will learn how to use\n`torch.export`{.interpreted-text role=\"func\"} to extract\n`ExportedProgram`\\'s (i.e. single-graph representations) from PyTorch\nprograms. We also detail some considerations/modifications that you may\nneed to make in order to make your model compatible with `torch.export`.\n\n**Contents**\n\n::: {.contents local=\"\"}\n:::\n"
      ]
    },
    {
      "cell_type": "markdown",
      "metadata": {},
      "source": [
        "Basic Usage\n===========\n\n`torch.export` extracts single-graph representations from PyTorch\nprograms by tracing the target function, given example inputs.\n`torch.export.export()` is the main entry point for `torch.export`.\n\nIn this tutorial, `torch.export` and `torch.export.export()` are\npractically synonymous, though `torch.export` generally refers to the\nPyTorch 2.X export process, and `torch.export.export()` generally refers\nto the actual function call.\n\nThe signature of `torch.export.export()` is:\n\n``` {.python}\nexport(\n    f: Callable,\n    args: Tuple[Any, ...],\n    kwargs: Optional[Dict[str, Any]] = None,\n    *,\n    dynamic_shapes: Optional[Dict[str, Dict[int, Dim]]] = None\n) -> ExportedProgram\n```\n\n`torch.export.export()` traces the tensor computation graph from calling\n`f(*args, **kwargs)` and wraps it in an `ExportedProgram`, which can be\nserialized or executed later with different inputs. Note that while the\noutput `ExportedGraph` is callable and can be called in the same way as\nthe original input callable, it is not a `torch.nn.Module`. We will\ndetail the `dynamic_shapes` argument later in the tutorial.\n"
      ]
    },
    {
      "cell_type": "code",
      "execution_count": null,
      "metadata": {
        "collapsed": false
      },
      "outputs": [],
      "source": [
        "import torch\nfrom torch.export import export\n\nclass MyModule(torch.nn.Module):\n    def __init__(self):\n        super().__init__()\n        self.lin = torch.nn.Linear(100, 10)\n\n    def forward(self, x, y):\n        return torch.nn.functional.relu(self.lin(x + y), inplace=True)\n\nmod = MyModule()\nexported_mod = export(mod, (torch.randn(8, 100), torch.randn(8, 100)))\nprint(type(exported_mod))\nprint(exported_mod.module()(torch.randn(8, 100), torch.randn(8, 100)))"
      ]
    },
    {
      "cell_type": "markdown",
      "metadata": {},
      "source": [
        "Let\\'s review some attributes of `ExportedProgram` that are of interest.\n\nThe `graph` attribute is an [FX\ngraph](https://pytorch.org/docs/stable/fx.html#torch.fx.Graph) traced\nfrom the function we exported, that is, the computation graph of all\nPyTorch operations. The FX graph has some important properties:\n\n-   The operations are \\\"ATen-level\\\" operations.\n-   The graph is \\\"functionalized\\\", meaning that no operations are\n    mutations.\n\nThe `graph_module` attribute is the `GraphModule` that wraps the `graph`\nattribute so that it can be ran as a `torch.nn.Module`.\n"
      ]
    },
    {
      "cell_type": "code",
      "execution_count": null,
      "metadata": {
        "collapsed": false
      },
      "outputs": [],
      "source": [
        "print(exported_mod)\nprint(exported_mod.graph_module)"
      ]
    },
    {
      "cell_type": "markdown",
      "metadata": {},
      "source": [
        "The printed code shows that FX graph only contains ATen-level ops (such\nas `torch.ops.aten`) and that mutations were removed. For example, the\nmutating op `torch.nn.functional.relu(..., inplace=True)` is represented\nin the printed code by `torch.ops.aten.relu.default`, which does not\nmutate. Future uses of input to the original mutating `relu` op are\nreplaced by the additional new output of the replacement non-mutating\n`relu` op.\n\nOther attributes of interest in `ExportedProgram` include:\n\n-   `graph_signature` \\-- the inputs, outputs, parameters, buffers, etc.\n    of the exported graph.\n-   `range_constraints` \\-- constraints, covered later\n"
      ]
    },
    {
      "cell_type": "code",
      "execution_count": null,
      "metadata": {
        "collapsed": false
      },
      "outputs": [],
      "source": [
        "print(exported_mod.graph_signature)"
      ]
    },
    {
      "cell_type": "markdown",
      "metadata": {},
      "source": [
        "See the `torch.export`\n[documentation](https://pytorch.org/docs/main/export.html#torch.export.export)\nfor more details.\n"
      ]
    },
    {
      "cell_type": "markdown",
      "metadata": {},
      "source": [
        "Graph Breaks\n============\n\nAlthough `torch.export` shares components with `torch.compile`, the key\nlimitation of `torch.export`, especially when compared to\n`torch.compile`, is that it does not support graph breaks. This is\nbecause handling graph breaks involves interpreting the unsupported\noperation with default Python evaluation, which is incompatible with the\nexport use case. Therefore, in order to make your model code compatible\nwith `torch.export`, you will need to modify your code to remove graph\nbreaks.\n\nA graph break is necessary in cases such as:\n\n-   data-dependent control flow\n"
      ]
    },
    {
      "cell_type": "code",
      "execution_count": null,
      "metadata": {
        "collapsed": false
      },
      "outputs": [],
      "source": [
        "class Bad1(torch.nn.Module):\n    def forward(self, x):\n        if x.sum() > 0:\n            return torch.sin(x)\n        return torch.cos(x)\n\nimport traceback as tb\ntry:\n    export(Bad1(), (torch.randn(3, 3),))\nexcept Exception:\n    tb.print_exc()"
      ]
    },
    {
      "cell_type": "markdown",
      "metadata": {},
      "source": [
        "-   accessing tensor data with `.data`\n"
      ]
    },
    {
      "cell_type": "code",
      "execution_count": null,
      "metadata": {
        "collapsed": false
      },
      "outputs": [],
      "source": [
        "class Bad2(torch.nn.Module):\n    def forward(self, x):\n        x.data[0, 0] = 3\n        return x\n\ntry:\n    export(Bad2(), (torch.randn(3, 3),))\nexcept Exception:\n    tb.print_exc()"
      ]
    },
    {
      "cell_type": "markdown",
      "metadata": {},
      "source": [
        "-   calling unsupported functions (such as many built-in functions)\n"
      ]
    },
    {
      "cell_type": "code",
      "execution_count": null,
      "metadata": {
        "collapsed": false
      },
      "outputs": [],
      "source": [
        "class Bad3(torch.nn.Module):\n    def forward(self, x):\n        x = x + 1\n        return x + id(x)\n\ntry:\n    export(Bad3(), (torch.randn(3, 3),))\nexcept Exception:\n    tb.print_exc()"
      ]
    },
    {
      "cell_type": "markdown",
      "metadata": {},
      "source": [
        "-   unsupported Python language features (e.g. throwing exceptions,\n    match statements)\n"
      ]
    },
    {
      "cell_type": "code",
      "execution_count": null,
      "metadata": {
        "collapsed": false
      },
      "outputs": [],
      "source": [
        "class Bad4(torch.nn.Module):\n    def forward(self, x):\n        try:\n            x = x + 1\n            raise RuntimeError(\"bad\")\n        except:\n            x = x + 2\n        return x\n\ntry:\n    export(Bad4(), (torch.randn(3, 3),))\nexcept Exception:\n    tb.print_exc()"
      ]
    },
    {
      "cell_type": "markdown",
      "metadata": {},
      "source": [
        "Non-Strict Export\n=================\n\nTo trace the program, `torch.export` uses TorchDynamo, a byte code\nanalysis engine, to symbolically analyze the Python code and build a\ngraph based on the results. This analysis allows `torch.export` to\nprovide stronger guarantees about safety, but not all Python code is\nsupported, causing these graph breaks.\n\nTo address this issue, in PyTorch 2.3, we introduced a new mode of\nexporting called non-strict mode, where we trace through the program\nusing the Python interpreter executing it exactly as it would in eager\nmode, allowing us to skip over unsupported Python features. This is done\nthrough adding a `strict=False` flag.\n\nLooking at some of the previous examples which resulted in graph breaks:\n\n-   Accessing tensor data with `.data` now works correctly\n"
      ]
    },
    {
      "cell_type": "code",
      "execution_count": null,
      "metadata": {
        "collapsed": false
      },
      "outputs": [],
      "source": [
        "class Bad2(torch.nn.Module):\n    def forward(self, x):\n        x.data[0, 0] = 3\n        return x\n\nbad2_nonstrict = export(Bad2(), (torch.randn(3, 3),), strict=False)\nprint(bad2_nonstrict.module()(torch.ones(3, 3)))"
      ]
    },
    {
      "cell_type": "markdown",
      "metadata": {},
      "source": [
        "\\- Calling unsupported functions (such as many built-in functions)\ntraces through, but in this case, `id(x)` gets specialized as a constant\ninteger in the graph. This is because `id(x)` is not a tensor operation,\nso the operation is not recorded in the graph.\n"
      ]
    },
    {
      "cell_type": "code",
      "execution_count": null,
      "metadata": {
        "collapsed": false
      },
      "outputs": [],
      "source": [
        "class Bad3(torch.nn.Module):\n    def forward(self, x):\n        x = x + 1\n        return x + id(x)\n\nbad3_nonstrict = export(Bad3(), (torch.randn(3, 3),), strict=False)\nprint(bad3_nonstrict)\nprint(bad3_nonstrict.module()(torch.ones(3, 3)))"
      ]
    },
    {
      "cell_type": "markdown",
      "metadata": {},
      "source": [
        "\\- Unsupported Python language features (such as throwing exceptions,\nmatch statements) now also get traced through.\n"
      ]
    },
    {
      "cell_type": "code",
      "execution_count": null,
      "metadata": {
        "collapsed": false
      },
      "outputs": [],
      "source": [
        "class Bad4(torch.nn.Module):\n    def forward(self, x):\n        try:\n            x = x + 1\n            raise RuntimeError(\"bad\")\n        except:\n            x = x + 2\n        return x\n\nbad4_nonstrict = export(Bad4(), (torch.randn(3, 3),), strict=False)\nprint(bad4_nonstrict.module()(torch.ones(3, 3)))"
      ]
    },
    {
      "cell_type": "markdown",
      "metadata": {},
      "source": [
        "However, there are still some features that require rewrites to the\noriginal module:\n"
      ]
    },
    {
      "cell_type": "markdown",
      "metadata": {},
      "source": [
        "Control Flow Ops\n================\n\n`torch.export` actually does support data-dependent control flow. But\nthese need to be expressed using control flow ops. For example, we can\nfix the control flow example above using the `cond` op, like so:\n"
      ]
    },
    {
      "cell_type": "code",
      "execution_count": null,
      "metadata": {
        "collapsed": false
      },
      "outputs": [],
      "source": [
        "from functorch.experimental.control_flow import cond\n\nclass Bad1Fixed(torch.nn.Module):\n    def forward(self, x):\n        def true_fn(x):\n            return torch.sin(x)\n        def false_fn(x):\n            return torch.cos(x)\n        return cond(x.sum() > 0, true_fn, false_fn, [x])\n\nexported_bad1_fixed = export(Bad1Fixed(), (torch.randn(3, 3),))\nprint(exported_bad1_fixed.module()(torch.ones(3, 3)))\nprint(exported_bad1_fixed.module()(-torch.ones(3, 3)))"
      ]
    },
    {
      "cell_type": "markdown",
      "metadata": {},
      "source": [
        "There are limitations to `cond` that one should be aware of:\n\n-   The predicate (i.e. `x.sum() > 0`) must result in a boolean or a\n    single-element tensor.\n-   The operands (i.e. `[x]`) must be tensors.\n-   The branch function (i.e. `true_fn` and `false_fn`) signature must\n    match with the operands and they must both return a single tensor\n    with the same metadata (for example, `dtype`, `shape`, etc.).\n-   Branch functions cannot mutate input or global variables.\n-   Branch functions cannot access closure variables, except for `self`\n    if the function is defined in the scope of a method.\n\nFor more details about `cond`, check out the [cond\ndocumentation](https://pytorch.org/docs/main/cond.html).\n"
      ]
    },
    {
      "cell_type": "markdown",
      "metadata": {},
      "source": [
        "Constraints/Dynamic Shapes\n==========================\n\nOps can have different specializations/behaviors for different tensor\nshapes, so by default, `torch.export` requires inputs to\n`ExportedProgram` to have the same shape as the respective example\ninputs given to the initial `torch.export.export()` call. If we try to\nrun the `ExportedProgram` in the example below with a tensor with a\ndifferent shape, we get an error:\n"
      ]
    },
    {
      "cell_type": "code",
      "execution_count": null,
      "metadata": {
        "collapsed": false
      },
      "outputs": [],
      "source": [
        "class MyModule2(torch.nn.Module):\n    def __init__(self):\n        super().__init__()\n        self.lin = torch.nn.Linear(100, 10)\n\n    def forward(self, x, y):\n        return torch.nn.functional.relu(self.lin(x + y), inplace=True)\n\nmod2 = MyModule2()\nexported_mod2 = export(mod2, (torch.randn(8, 100), torch.randn(8, 100)))\n\ntry:\n    exported_mod2.module()(torch.randn(10, 100), torch.randn(10, 100))\nexcept Exception:\n    tb.print_exc()"
      ]
    },
    {
      "cell_type": "markdown",
      "metadata": {},
      "source": [
        "We can relax this constraint using the `dynamic_shapes` argument of\n`torch.export.export()`, which allows us to specify, using\n`torch.export.Dim`\n([documentation](https://pytorch.org/docs/main/export.html#torch.export.Dim)),\nwhich dimensions of the input tensors are dynamic.\n\nFor each tensor argument of the input callable, we can specify a mapping\nfrom the dimension to a `torch.export.Dim`. A `torch.export.Dim` is\nessentially a named symbolic integer with optional minimum and maximum\nbounds.\n\nThen, the format of `torch.export.export()`\\'s `dynamic_shapes` argument\nis a mapping from the input callable\\'s tensor argument names, to\ndimension \\--\\> dim mappings as described above. If there is no\n`torch.export.Dim` given to a tensor argument\\'s dimension, then that\ndimension is assumed to be static.\n\nThe first argument of `torch.export.Dim` is the name for the symbolic\ninteger, used for debugging. Then we can specify an optional minimum and\nmaximum bound (inclusive). Below, we show a usage example.\n\nIn the example below, our input `inp1` has an unconstrained first\ndimension, but the size of the second dimension must be in the interval\n\\[4, 18\\].\n"
      ]
    },
    {
      "cell_type": "code",
      "execution_count": null,
      "metadata": {
        "collapsed": false
      },
      "outputs": [],
      "source": [
        "from torch.export import Dim\n\ninp1 = torch.randn(10, 10, 2)\n\nclass DynamicShapesExample1(torch.nn.Module):\n    def forward(self, x):\n        x = x[:, 2:]\n        return torch.relu(x)\n\ninp1_dim0 = Dim(\"inp1_dim0\")\ninp1_dim1 = Dim(\"inp1_dim1\", min=4, max=18)\ndynamic_shapes1 = {\n    \"x\": {0: inp1_dim0, 1: inp1_dim1},\n}\n\nexported_dynamic_shapes_example1 = export(DynamicShapesExample1(), (inp1,), dynamic_shapes=dynamic_shapes1)\n\nprint(exported_dynamic_shapes_example1.module()(torch.randn(5, 5, 2)))\n\ntry:\n    exported_dynamic_shapes_example1.module()(torch.randn(8, 1, 2))\nexcept Exception:\n    tb.print_exc()\n\ntry:\n    exported_dynamic_shapes_example1.module()(torch.randn(8, 20, 2))\nexcept Exception:\n    tb.print_exc()\n\ntry:\n    exported_dynamic_shapes_example1.module()(torch.randn(8, 8, 3))\nexcept Exception:\n    tb.print_exc()"
      ]
    },
    {
      "cell_type": "markdown",
      "metadata": {},
      "source": [
        "Note that if our example inputs to `torch.export` do not satisfy the\nconstraints given by `dynamic_shapes`, then we get an error.\n"
      ]
    },
    {
      "cell_type": "code",
      "execution_count": null,
      "metadata": {
        "collapsed": false
      },
      "outputs": [],
      "source": [
        "inp1_dim1_bad = Dim(\"inp1_dim1_bad\", min=11, max=18)\ndynamic_shapes1_bad = {\n    \"x\": {0: inp1_dim0, 1: inp1_dim1_bad},\n}\n\ntry:\n    export(DynamicShapesExample1(), (inp1,), dynamic_shapes=dynamic_shapes1_bad)\nexcept Exception:\n    tb.print_exc()"
      ]
    },
    {
      "cell_type": "markdown",
      "metadata": {},
      "source": [
        "We can enforce that equalities between dimensions of different tensors\nby using the same `torch.export.Dim` object, for example, in matrix\nmultiplication:\n"
      ]
    },
    {
      "cell_type": "code",
      "execution_count": null,
      "metadata": {
        "collapsed": false
      },
      "outputs": [],
      "source": [
        "inp2 = torch.randn(4, 8)\ninp3 = torch.randn(8, 2)\n\nclass DynamicShapesExample2(torch.nn.Module):\n    def forward(self, x, y):\n        return x @ y\n\ninp2_dim0 = Dim(\"inp2_dim0\")\ninner_dim = Dim(\"inner_dim\")\ninp3_dim1 = Dim(\"inp3_dim1\")\n\ndynamic_shapes2 = {\n    \"x\": {0: inp2_dim0, 1: inner_dim},\n    \"y\": {0: inner_dim, 1: inp3_dim1},\n}\n\nexported_dynamic_shapes_example2 = export(DynamicShapesExample2(), (inp2, inp3), dynamic_shapes=dynamic_shapes2)\n\nprint(exported_dynamic_shapes_example2.module()(torch.randn(2, 16), torch.randn(16, 4)))\n\ntry:\n    exported_dynamic_shapes_example2.module()(torch.randn(4, 8), torch.randn(4, 2))\nexcept Exception:\n    tb.print_exc()"
      ]
    },
    {
      "cell_type": "markdown",
      "metadata": {},
      "source": [
        "We can also describe one dimension in terms of other. There are some\nrestrictions to how detailed we can specify one dimension in terms of\nanother, but generally, those in the form of `A * Dim + B` should work.\n"
      ]
    },
    {
      "cell_type": "code",
      "execution_count": null,
      "metadata": {
        "collapsed": false
      },
      "outputs": [],
      "source": [
        "class DerivedDimExample1(torch.nn.Module):\n    def forward(self, x, y):\n        return x + y[1:]\n\nfoo = DerivedDimExample1()\n\nx, y = torch.randn(5), torch.randn(6)\ndimx = torch.export.Dim(\"dimx\", min=3, max=6)\ndimy = dimx + 1\nderived_dynamic_shapes1 = ({0: dimx}, {0: dimy})\n\nderived_dim_example1 = export(foo, (x, y), dynamic_shapes=derived_dynamic_shapes1)\n\nprint(derived_dim_example1.module()(torch.randn(4), torch.randn(5)))\n\ntry:\n    derived_dim_example1.module()(torch.randn(4), torch.randn(6))\nexcept Exception:\n    tb.print_exc()\n\n\nclass DerivedDimExample2(torch.nn.Module):\n    def forward(self, z, y):\n        return z[1:] + y[1::3]\n\nfoo = DerivedDimExample2()\n\nz, y = torch.randn(4), torch.randn(10)\ndx = torch.export.Dim(\"dx\", min=3, max=6)\ndz = dx + 1\ndy = dx * 3 + 1\nderived_dynamic_shapes2 = ({0: dz}, {0: dy})\n\nderived_dim_example2 = export(foo, (z, y), dynamic_shapes=derived_dynamic_shapes2)\nprint(derived_dim_example2.module()(torch.randn(7), torch.randn(19)))"
      ]
    },
    {
      "cell_type": "markdown",
      "metadata": {},
      "source": [
        "We can actually use `torch.export` to guide us as to which\n`dynamic_shapes` constraints are necessary. We can do this by relaxing\nall constraints (recall that if we do not provide constraints for a\ndimension, the default behavior is to constrain to the exact shape value\nof the example input) and letting `torch.export` error out.\n"
      ]
    },
    {
      "cell_type": "code",
      "execution_count": null,
      "metadata": {
        "collapsed": false
      },
      "outputs": [],
      "source": [
        "inp4 = torch.randn(8, 16)\ninp5 = torch.randn(16, 32)\n\nclass DynamicShapesExample3(torch.nn.Module):\n    def forward(self, x, y):\n        if x.shape[0] <= 16:\n            return x @ y[:, :16]\n        return y\n\ndynamic_shapes3 = {\n    \"x\": {i: Dim(f\"inp4_dim{i}\") for i in range(inp4.dim())},\n    \"y\": {i: Dim(f\"inp5_dim{i}\") for i in range(inp5.dim())},\n}\n\ntry:\n    export(DynamicShapesExample3(), (inp4, inp5), dynamic_shapes=dynamic_shapes3)\nexcept Exception:\n    tb.print_exc()"
      ]
    },
    {
      "cell_type": "markdown",
      "metadata": {},
      "source": [
        "We can see that the error message gives us suggested fixes to our\ndynamic shape constraints. Let us follow those suggestions (exact\nsuggestions may differ slightly):\n"
      ]
    },
    {
      "cell_type": "code",
      "execution_count": null,
      "metadata": {
        "collapsed": false
      },
      "outputs": [],
      "source": [
        "def suggested_fixes():\n    inp4_dim1 = Dim('shared_dim')\n    # suggested fixes below\n    inp4_dim0 = Dim('inp4_dim0', max=16)\n    inp5_dim1 = Dim('inp5_dim1', min=17)\n    inp5_dim0 = inp4_dim1\n    # end of suggested fixes\n    return {\n        \"x\": {0: inp4_dim0, 1: inp4_dim1},\n        \"y\": {0: inp5_dim0, 1: inp5_dim1},\n    }\n\ndynamic_shapes3_fixed = suggested_fixes()\nexported_dynamic_shapes_example3 = export(DynamicShapesExample3(), (inp4, inp5), dynamic_shapes=dynamic_shapes3_fixed)\nprint(exported_dynamic_shapes_example3.module()(torch.randn(4, 32), torch.randn(32, 64)))"
      ]
    },
    {
      "cell_type": "markdown",
      "metadata": {},
      "source": [
        "Note that in the example above, because we constrained the value of\n`x.shape[0]` in `dynamic_shapes_example3`, the exported program is sound\neven though there is a raw `if` statement.\n\nIf you want to see why `torch.export` generated these constraints, you\ncan re-run the script with the environment variable\n`TORCH_LOGS=dynamic,dynamo`, or use `torch._logging.set_logs`.\n"
      ]
    },
    {
      "cell_type": "code",
      "execution_count": null,
      "metadata": {
        "collapsed": false
      },
      "outputs": [],
      "source": [
        "import logging\ntorch._logging.set_logs(dynamic=logging.INFO, dynamo=logging.INFO)\nexported_dynamic_shapes_example3 = export(DynamicShapesExample3(), (inp4, inp5), dynamic_shapes=dynamic_shapes3_fixed)\n\n# reset to previous values\ntorch._logging.set_logs(dynamic=logging.WARNING, dynamo=logging.WARNING)"
      ]
    },
    {
      "cell_type": "markdown",
      "metadata": {},
      "source": [
        "We can view an `ExportedProgram`\\'s symbolic shape ranges using the\n`range_constraints` field.\n"
      ]
    },
    {
      "cell_type": "code",
      "execution_count": null,
      "metadata": {
        "collapsed": false
      },
      "outputs": [],
      "source": [
        "print(exported_dynamic_shapes_example3.range_constraints)"
      ]
    },
    {
      "cell_type": "markdown",
      "metadata": {},
      "source": [
        "Custom Ops\n==========\n\n`torch.export` can export PyTorch programs with custom operators.\n\nCurrently, the steps to register a custom op for use by `torch.export`\nare:\n\n-   Define the custom op using `torch.library`\n    ([reference](https://pytorch.org/docs/main/library.html)) as with\n    any other custom op\n"
      ]
    },
    {
      "cell_type": "code",
      "execution_count": null,
      "metadata": {
        "collapsed": false
      },
      "outputs": [],
      "source": [
        "from torch.library import Library, impl, impl_abstract\n\nm = Library(\"my_custom_library\", \"DEF\")\n\nm.define(\"custom_op(Tensor input) -> Tensor\")\n\n@impl(m, \"custom_op\", \"CompositeExplicitAutograd\")\ndef custom_op(x):\n    print(\"custom_op called!\")\n    return torch.relu(x)"
      ]
    },
    {
      "cell_type": "markdown",
      "metadata": {},
      "source": [
        "-   Define a `\"Meta\"` implementation of the custom op that returns an\n    empty tensor with the same shape as the expected output\n"
      ]
    },
    {
      "cell_type": "code",
      "execution_count": null,
      "metadata": {
        "collapsed": false
      },
      "outputs": [],
      "source": [
        "@impl_abstract(\"my_custom_library::custom_op\")\ndef custom_op_meta(x):\n    return torch.empty_like(x)"
      ]
    },
    {
      "cell_type": "markdown",
      "metadata": {},
      "source": [
        "-   Call the custom op from the code you want to export using\n    `torch.ops`\n"
      ]
    },
    {
      "cell_type": "code",
      "execution_count": null,
      "metadata": {
        "collapsed": false
      },
      "outputs": [],
      "source": [
        "class CustomOpExample(torch.nn.Module):\n    def forward(self, x):\n        x = torch.sin(x)\n        x = torch.ops.my_custom_library.custom_op(x)\n        x = torch.cos(x)\n        return x"
      ]
    },
    {
      "cell_type": "markdown",
      "metadata": {},
      "source": [
        "-   Export the code as before\n"
      ]
    },
    {
      "cell_type": "code",
      "execution_count": null,
      "metadata": {
        "collapsed": false
      },
      "outputs": [],
      "source": [
        "exported_custom_op_example = export(CustomOpExample(), (torch.randn(3, 3),))\nexported_custom_op_example.graph_module.print_readable()\nprint(exported_custom_op_example.module()(torch.randn(3, 3)))"
      ]
    },
    {
      "cell_type": "markdown",
      "metadata": {},
      "source": [
        "Note in the above outputs that the custom op is included in the exported\ngraph. And when we call the exported graph as a function, the original\ncustom op is called, as evidenced by the `print` call.\n\nIf you have a custom operator implemented in C++, please refer to [this\ndocument](https://docs.google.com/document/d/1_W62p8WJOQQUzPsJYa7s701JXt0qf2OfLub2sbkHOaU/edit#heading=h.ahugy69p2jmz)\nto make it compatible with `torch.export`.\n"
      ]
    },
    {
      "cell_type": "markdown",
      "metadata": {},
      "source": [
        "Decompositions\n==============\n\nThe graph produced by `torch.export` by default returns a graph\ncontaining only functional ATen operators. This functional ATen operator\nset (or \\\"opset\\\") contains around 2000 operators, all of which are\nfunctional, that is, they do not mutate or alias inputs. You can find a\nlist of all ATen operators\n[here](https://github.com/pytorch/pytorch/blob/main/aten/src/ATen/native/native_functions.yaml)\nand you can inspect if an operator is functional by checking\n`op._schema.is_mutable`, for example:\n"
      ]
    },
    {
      "cell_type": "code",
      "execution_count": null,
      "metadata": {
        "collapsed": false
      },
      "outputs": [],
      "source": [
        "print(torch.ops.aten.add.Tensor._schema.is_mutable)\nprint(torch.ops.aten.add_.Tensor._schema.is_mutable)"
      ]
    },
    {
      "cell_type": "markdown",
      "metadata": {},
      "source": [
        "By default, the environment in which you want to run the exported graph\nshould support all \\~2000 of these operators. However, you can use the\nfollowing API on the exported program if your specific environment is\nonly able to support a subset of the \\~2000 operators.\n\n``` {.python}\ndef run_decompositions(\n    self: ExportedProgram,\n    decomposition_table: Optional[Dict[torch._ops.OperatorBase, Callable]]\n) -> ExportedProgram\n```\n\n`run_decompositions` takes in a decomposition table, which is a mapping\nof operators to a function specifying how to reduce, or decompose, that\noperator into an equivalent sequence of other ATen operators.\n\nThe default decomposition table for `run_decompositions` is the [Core\nATen decomposition\ntable](https://github.com/pytorch/pytorch/blob/b460c3089367f3fadd40aa2cb3808ee370aa61e1/torch/_decomp/__init__.py#L252)\nwhich will decompose the all ATen operators to the [Core ATen Operator\nSet](https://pytorch.org/docs/main/torch.compiler_ir.html#core-aten-ir)\nwhich consists of only \\~180 operators.\n"
      ]
    },
    {
      "cell_type": "code",
      "execution_count": null,
      "metadata": {
        "collapsed": false
      },
      "outputs": [],
      "source": [
        "class M(torch.nn.Module):\n    def __init__(self):\n        super().__init__()\n        self.linear = torch.nn.Linear(3, 4)\n\n    def forward(self, x):\n        return self.linear(x)\n\nep = export(M(), (torch.randn(2, 3),))\nprint(ep.graph)\n\ncore_ir_ep = ep.run_decompositions()\nprint(core_ir_ep.graph)"
      ]
    },
    {
      "cell_type": "markdown",
      "metadata": {},
      "source": [
        "Notice that after running `run_decompositions` the\n`torch.ops.aten.t.default` operator, which is not part of the Core ATen\nOpset, has been replaced with `torch.ops.aten.permute.default` which is\npart of the Core ATen Opset.\n\nMost ATen operators already have decompositions, which are located\n[here](https://github.com/pytorch/pytorch/blob/b460c3089367f3fadd40aa2cb3808ee370aa61e1/torch/_decomp/decompositions.py).\nIf you would like to use some of these existing decomposition functions,\nyou can pass in a list of operators you would like to decompose to the\n[get\\_decompositions](https://github.com/pytorch/pytorch/blob/b460c3089367f3fadd40aa2cb3808ee370aa61e1/torch/_decomp/__init__.py#L191)\nfunction, which will return a decomposition table using existing\ndecomposition implementations.\n"
      ]
    },
    {
      "cell_type": "code",
      "execution_count": null,
      "metadata": {
        "collapsed": false
      },
      "outputs": [],
      "source": [
        "class M(torch.nn.Module):\n    def __init__(self):\n        super().__init__()\n        self.linear = torch.nn.Linear(3, 4)\n\n    def forward(self, x):\n        return self.linear(x)\n\nep = export(M(), (torch.randn(2, 3),))\nprint(ep.graph)\n\nfrom torch._decomp import get_decompositions\ndecomp_table = get_decompositions([torch.ops.aten.t.default, torch.ops.aten.transpose.int])\ncore_ir_ep = ep.run_decompositions(decomp_table)\nprint(core_ir_ep.graph)"
      ]
    },
    {
      "cell_type": "markdown",
      "metadata": {},
      "source": [
        "If there is no existing decomposition function for an ATen operator that\nyou would like to decompose, feel free to send a pull request into\nPyTorch implementing the decomposition!\n"
      ]
    },
    {
      "cell_type": "markdown",
      "metadata": {},
      "source": [
        "ExportDB\n========\n\n`torch.export` will only ever export a single computation graph from a\nPyTorch program. Because of this requirement, there will be Python or\nPyTorch features that are not compatible with `torch.export`, which will\nrequire users to rewrite parts of their model code. We have seen\nexamples of this earlier in the tutorial \\-- for example, rewriting\nif-statements using `cond`.\n\n[ExportDB](https://pytorch.org/docs/main/generated/exportdb/index.html)\nis the standard reference that documents supported and unsupported\nPython/PyTorch features for `torch.export`. It is essentially a list a\nprogram samples, each of which represents the usage of one particular\nPython/PyTorch feature and its interaction with `torch.export`. Examples\nare also tagged by category so that they can be more easily searched.\n\nFor example, let\\'s use ExportDB to get a better understanding of how\nthe predicate works in the `cond` operator. We can look at the example\ncalled `cond_predicate`, which has a `torch.cond` tag. The example code\nlooks like:\n"
      ]
    },
    {
      "cell_type": "code",
      "execution_count": null,
      "metadata": {
        "collapsed": false
      },
      "outputs": [],
      "source": [
        "def cond_predicate(x):\n    \"\"\"\n    The conditional statement (aka predicate) passed to ``cond()`` must be one of the following:\n    - ``torch.Tensor`` with a single element\n    - boolean expression\n    NOTE: If the `pred` is test on a dim with batch size < 2, it will be specialized.\n    \"\"\"\n    pred = x.dim() > 2 and x.shape[2] > 10\n    return cond(pred, lambda x: x.cos(), lambda y: y.sin(), [x])"
      ]
    },
    {
      "cell_type": "markdown",
      "metadata": {},
      "source": [
        "More generally, ExportDB can be used as a reference when one of the\nfollowing occurs:\n\n1.  Before attempting `torch.export`, you know ahead of time that your\n    model uses some tricky Python/PyTorch features and you want to know\n    if `torch.export` covers that feature.\n2.  When attempting `torch.export`, there is a failure and it\\'s unclear\n    how to work around it.\n\nExportDB is not exhaustive, but is intended to cover all use cases found\nin typical PyTorch code. Feel free to reach out if there is an important\nPython/PyTorch feature that should be added to ExportDB or supported by\n`torch.export`.\n"
      ]
    },
    {
      "cell_type": "markdown",
      "metadata": {},
      "source": [
        "Running the Exported Program\n============================\n\nAs `torch.export` is only a graph capturing mechanism, calling the\nartifact produced by `torch.export` eagerly will be equivalent to\nrunning the eager module. To optimize the execution of the Exported\nProgram, we can pass this exported artifact to backends such as Inductor\nthrough `torch.compile`,\n[AOTInductor](https://pytorch.org/docs/main/torch.compiler_aot_inductor.html),\nor [TensorRT](https://pytorch.org/TensorRT/dynamo/dynamo_export.html).\n"
      ]
    },
    {
      "cell_type": "code",
      "execution_count": null,
      "metadata": {
        "collapsed": false
      },
      "outputs": [],
      "source": [
        "class M(torch.nn.Module):\n    def __init__(self):\n        super().__init__()\n        self.linear = torch.nn.Linear(3, 3)\n\n    def forward(self, x):\n        x = self.linear(x)\n        return x\n\ninp = torch.randn(2, 3, device=\"cuda\")\nm = M().to(device=\"cuda\")\nep = torch.export.export(m, (inp,))\n\n# Run it eagerly\nres = ep.module()(inp)\nprint(res)\n\n# Run it with torch.compile\nres = torch.compile(ep.module(), backend=\"inductor\")(inp)\nprint(res)"
      ]
    },
    {
      "cell_type": "markdown",
      "metadata": {},
      "source": [
        "``` {.python}\nimport torch._export\nimport torch._inductor\n\n# Note: these APIs are subject to change\n# Compile the exported program to a .so using ``AOTInductor``\nwith torch.no_grad():\nso_path = torch._inductor.aot_compile(ep.module(), [inp])\n\n# Load and run the .so file in Python.\n# To load and run it in a C++ environment, see:\n# https://pytorch.org/docs/main/torch.compiler_aot_inductor.html\nres = torch._export.aot_load(so_path, device=\"cuda\")(inp)\n```\n"
      ]
    },
    {
      "cell_type": "markdown",
      "metadata": {},
      "source": [
        "Conclusion\n==========\n\nWe introduced `torch.export`, the new PyTorch 2.X way to export single\ncomputation graphs from PyTorch programs. In particular, we demonstrate\nseveral code modifications and considerations (control flow ops,\nconstraints, etc.) that need to be made in order to export a graph.\n"
      ]
    }
  ],
  "metadata": {
    "kernelspec": {
      "display_name": "Python 3",
      "language": "python",
      "name": "python3"
    },
    "language_info": {
      "codemirror_mode": {
        "name": "ipython",
        "version": 3
      },
      "file_extension": ".py",
      "mimetype": "text/x-python",
      "name": "python",
      "nbconvert_exporter": "python",
      "pygments_lexer": "ipython3",
      "version": "3.10.14"
    }
  },
  "nbformat": 4,
  "nbformat_minor": 0
}