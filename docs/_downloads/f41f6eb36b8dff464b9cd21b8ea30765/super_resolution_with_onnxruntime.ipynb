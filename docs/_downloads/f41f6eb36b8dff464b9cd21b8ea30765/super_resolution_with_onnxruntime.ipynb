{
  "cells": [
    {
      "cell_type": "code",
      "execution_count": null,
      "metadata": {
        "collapsed": false
      },
      "outputs": [],
      "source": [
        "# Google Colab\uc5d0\uc11c \ub178\ud2b8\ubd81\uc744 \uc2e4\ud589\ud558\uc2e4 \ub54c\uc5d0\ub294 \n# https://tutorials.pytorch.kr/beginner/colab \ub97c \ucc38\uace0\ud558\uc138\uc694.\n%matplotlib inline"
      ]
    },
    {
      "cell_type": "markdown",
      "metadata": {},
      "source": [
        "(\uc120\ud0dd) PyTorch \ubaa8\ub378\uc744 ONNX\uc73c\ub85c \ubcc0\ud658\ud558\uace0 ONNX \ub7f0\ud0c0\uc784\uc5d0\uc11c \uc2e4\ud589\ud558\uae30\n================================================================\n\n```{=html}\n<div style=\"background-color: #54c7ec; color: #fff; font-weight: 700; padding-left: 10px; padding-top: 5px; padding-bottom: 5px\"><strong>NOTE:</strong></div>\n```\n```{=html}\n<div style=\"background-color: #f3f4f7; padding-left: 10px; padding-top: 10px; padding-bottom: 10px; padding-right: 10px\">\n```\n```{=html}\n<p>PyTorch 2.1\ubd80\ud130 ONNX Exporter\uc5d0\ub294 \ub450 \uac00\uc9c0 \ubc84\uc804\uc774 \uc874\uc7ac\ud569\ub2c8\ub2e4.<em> <code>torch.onnx.dynamo_export</code> \ub294 PyTorch 2.0\uacfc \ud568\uaed8 \ucd9c\uc2dc\ub41c TorchDynamo \uae30\uc220 \uae30\ubc18\uc758 \ucd5c\uc2e0(\uc774\uc9c0\ub9cc \uc544\uc9c1 \ubca0\ud0c0 \ubc84\uc804\uc758) ONNX Exporter\uc785\ub2c8\ub2e4.</em> <code>torch.onnx.export</code> \ub294 PyTorch 1.2.0\ubd80\ud130 \uc9c0\uc6d0 \uc911\uc778 TorchScript \ubc31\uc5d4\ub4dc\uc5d0 \uae30\ubc18\ud55c ONNX Exporter\uc785\ub2c8\ub2e4.</p>\n```\n```{=html}\n</div>\n```\n\uc774 \ud29c\ud1a0\ub9ac\uc5bc\uc5d0\uc11c\ub294 TorchScript \uae30\ubc18\uc758 ONNX Exporter\uc778 `torch.onnx.export`\n\ub97c \uc0ac\uc6a9\ud558\uc5ec PyTorch\uc5d0\uc11c \uc815\uc758\ud55c \ubaa8\ub378\uc744 \uc5b4\ub5bb\uac8c ONNX \ud615\uc2dd\uc73c\ub85c \ubcc0\ud658\ud558\ub294\uc9c0\ub97c\n\uc0b4\ud3b4\ubcf4\ub3c4\ub85d \ud558\uaca0\uc2b5\ub2c8\ub2e4.\n\n\uc774\ub807\uac8c \ubcc0\ud658\ub41c \ubaa8\ub378\uc740 ONNX \ub7f0\ud0c0\uc784(Runtime)\uc5d0\uc11c \uc2e4\ud589\ub429\ub2c8\ub2e4. ONNX \ub7f0\ud0c0\uc784\uc740\n\ub2e4\uc591\ud55c \ud50c\ub7ab\ud3fc\uacfc \ud558\ub4dc\uc6e8\uc5b4(\uc708\ub3c4\uc6b0\uc988, \ub9ac\ub205\uc2a4, \ub9e5 \ubc0f CPU, GPU \ubaa8\ub450)\uc5d0\uc11c\n\ud6a8\uc728\uc801\uc73c\ub85c \ucd94\ub860\ud558\ub294, \uc131\ub2a5\uc5d0 \ucd08\uc810\uc744 \ub9de\ucd98 ONNX \ubaa8\ub378\uc744 \uc704\ud55c \uc5d4\uc9c4\uc785\ub2c8\ub2e4.\n\n[\uc5ec\uae30](https://cloudblogs.microsoft.com/opensource/2019/05/22/onnx-runtime-machine-learning-inferencing-0-4-release)\n\uc5d0\uc11c \uc124\uba85\ud55c \uac83\ucc98\ub7fc ONNX \ub7f0\ud0c0\uc784\uc744 \ud65c\uc6a9\ud558\uba74 \uc5ec\ub7ec \ubaa8\ub378\ub4e4\uc758 \uc131\ub2a5\uc744 \uc0c1\ub2f9\ud788\n\ub192\uc77c \uc218 \uc788\ub2e4\ub294 \uac83\uc774 \uc99d\uba85\ub418\uc5c8\uc2b5\ub2c8\ub2e4.\n\n\uc774 \ud29c\ud1a0\ub9ac\uc5bc\uc758 \uc9c4\ud589\uc744 \uc704\ud574 [ONNX](https://github.com/onnx/onnx) \ubc0f [ONNX\n\ub7f0\ud0c0\uc784(Runtime)](https://github.com/microsoft/onnxruntime) \uc758 \uc124\uce58\uac00\n\ud544\uc694\ud569\ub2c8\ub2e4.\n\nONNX \ubc0f ONNX \ub7f0\ud0c0\uc784\uc740 \ub2e4\uc74c\uacfc \uac19\uc774 \uc124\uce58\ud560 \uc218 \uc788\uc2b5\ub2c8\ub2e4:\n\n``` {.bash}\n%%bash\npip install onnx onnxruntime\n```\n\nONNX \ub7f0\ud0c0\uc784\uc740 \ucd5c\uc2e0 \ubc84\uc804\uc758 PyTorch \ub7f0\ud0c0\uc784\uc744 \uc0ac\uc6a9\ud558\ub294 \uac83\uc744 \uad8c\uc7a5\ud569\ub2c8\ub2e4.\n"
      ]
    },
    {
      "cell_type": "code",
      "execution_count": null,
      "metadata": {
        "collapsed": false
      },
      "outputs": [],
      "source": [
        "# \ud544\uc694\ud55c import\ubb38\nimport numpy as np\n\nfrom torch import nn\nimport torch.utils.model_zoo as model_zoo\nimport torch.onnx"
      ]
    },
    {
      "cell_type": "markdown",
      "metadata": {},
      "source": [
        "\ucd08\ud574\uc0c1\ud654(super-resolution)\ub780 \uc774\ubbf8\uc9c0\ub098 \ube44\ub514\uc624\uc758 \ud574\uc0c1\ub3c4\ub97c \ub192\uc774\uae30 \uc704\ud55c\n\ubc29\ubc95\uc73c\ub85c \uc774\ubbf8\uc9c0 \ud504\ub85c\uc138\uc2f1\uc774\ub098 \ube44\ub514\uc624 \ud3b8\uc9d1\uc5d0 \ub110\ub9ac \uc0ac\uc6a9\ub418\uace0 \uc788\ub294\n\ubc29\ubc95\uc785\ub2c8\ub2e4. \uc774 \ud29c\ud1a0\ub9ac\uc5bc\uc5d0\uc11c\ub294 \ud06c\uae30\uac00 \uc791\uc740 \ucd08\ud574\uc0c1\ud654 \ubaa8\ub378\uc744 \uc0ac\uc6a9\ud558\ub3c4\ub85d\n\ud558\uaca0\uc2b5\ub2c8\ub2e4.\n\n\uba3c\uc800, \ucd08\ud574\uc0c1\ud654 \ubaa8\ub378\uc744 PyTorch\uc5d0\uc11c \uad6c\ud604\ud558\uaca0\uc2b5\ub2c8\ub2e4. \uc774 \ubaa8\ub378\uc740 [\\\"Real-Time\nSingle Image and Video Super-Resolution Using an Efficient Sub-Pixel\nConvolutional Neural Network\\\" - Shi et\nal](https://arxiv.org/abs/1609.05158) \uc5d0\uc11c \uc18c\uac1c\ub41c \ud6a8\uc728\uc801\uc778 \uc11c\ube0c\ud53d\uc140\n\ud569\uc131\uacf1 \uacc4\uce35\uc744 \uc0ac\uc6a9\ud558\uc5ec \uc774\ubbf8\uc9c0\uc758 \ud574\uc0c1\ub3c4\ub97c \uc5c5\uc2a4\ucf00\uc77c \uc778\uc790\ub9cc\ud07c \ub298\ub9bd\ub2c8\ub2e4.\n\ubaa8\ub378\uc740 \uc774\ubbf8\uc9c0\uc758 YCbCr \uc131\ubd84 \uc911 Y \uc131\ubd84\uc744 \uc785\ub825\uac12\uc73c\ub85c \ubc1b\uace0 \uc5c5\uc2a4\ucf00\uc77c\ub41c\n\ucd08\ud574\uc0c1\ub3c4\uc758 Y \ucc44\ub110 \uac12\uc744 \ub9ac\ud134\ud569\ub2c8\ub2e4.\n\n\uc544\ub798\ub294 PyTorch \uc608\uc81c\uc758\n[\ubaa8\ub378](https://github.com/pytorch/examples/blob/master/super_resolution/model.py)\n\uc744 \uadf8\ub300\ub85c \uac00\uc838\uc628 \uac83\uc785\ub2c8\ub2e4:\n"
      ]
    },
    {
      "cell_type": "code",
      "execution_count": null,
      "metadata": {
        "collapsed": false
      },
      "outputs": [],
      "source": [
        "# PyTorch\uc5d0\uc11c \uad6c\ud604\ub41c \ucd08\ud574\uc0c1\ub3c4 \ubaa8\ub378\nimport torch.nn as nn\nimport torch.nn.init as init\n\n\nclass SuperResolutionNet(nn.Module):\n    def __init__(self, upscale_factor, inplace=False):\n        super(SuperResolutionNet, self).__init__()\n\n        self.relu = nn.ReLU(inplace=inplace)\n        self.conv1 = nn.Conv2d(1, 64, (5, 5), (1, 1), (2, 2))\n        self.conv2 = nn.Conv2d(64, 64, (3, 3), (1, 1), (1, 1))\n        self.conv3 = nn.Conv2d(64, 32, (3, 3), (1, 1), (1, 1))\n        self.conv4 = nn.Conv2d(32, upscale_factor ** 2, (3, 3), (1, 1), (1, 1))\n        self.pixel_shuffle = nn.PixelShuffle(upscale_factor)\n\n        self._initialize_weights()\n\n    def forward(self, x):\n        x = self.relu(self.conv1(x))\n        x = self.relu(self.conv2(x))\n        x = self.relu(self.conv3(x))\n        x = self.pixel_shuffle(self.conv4(x))\n        return x\n\n    def _initialize_weights(self):\n        init.orthogonal_(self.conv1.weight, init.calculate_gain('relu'))\n        init.orthogonal_(self.conv2.weight, init.calculate_gain('relu'))\n        init.orthogonal_(self.conv3.weight, init.calculate_gain('relu'))\n        init.orthogonal_(self.conv4.weight)\n\n# \uc704\uc5d0\uc11c \uc815\uc758\ub41c \ubaa8\ub378\uc744 \uc0ac\uc6a9\ud558\uc5ec \ucd08\ud574\uc0c1\ub3c4 \ubaa8\ub378 \uc0dd\uc131\ntorch_model = SuperResolutionNet(upscale_factor=3)"
      ]
    },
    {
      "cell_type": "markdown",
      "metadata": {},
      "source": [
        "\uc704 \uacfc\uc815\uc774 \ub05d\ub098\uba74 \uc77c\ubc18\uc801\uc778 \uacbd\uc6b0\uc5d0 \ubaa8\ub378\uc744 \ud559\uc2b5\uc2dc\ud0a4\uae30 \uc2dc\uc791\ud560 \uac83\uc785\ub2c8\ub2e4.\n\ud558\uc9c0\ub9cc \ubcf8 \ud29c\ud1a0\ub9ac\uc5bc\uc5d0\uc11c\ub294 \ubbf8\ub9ac \ud559\uc2b5\ub41c \uac00\uc911\uce58\ub4e4\uc744 \uc0ac\uc6a9\ud558\ub3c4\ub85d \ud558\uaca0\uc2b5\ub2c8\ub2e4.\n\ucc38\uace0\ub85c \uc774 \ubaa8\ub378\uc740 \ub192\uc740 \uc815\ud655\ub3c4\uc5d0 \uc774\ub97c \ub54c\uae4c\uc9c0 \ud559\uc2b5\ub418\uc9c0 \uc54a\uc558\uace0 \ubcf8 \ud29c\ud1a0\ub9ac\uc5bc\uc744\n\uc6d0\ud65c\ud788 \uc9c4\ud589\ud558\uae30 \uc704\ud55c \ubaa9\uc801\uc73c\ub85c \uc0ac\uc6a9\ud558\ub294 \uac83\uc785\ub2c8\ub2e4.\n\n\ubaa8\ub378\uc744 \ubcc0\ud658\ud558\uae30 \uc804\uc5d0 \ubaa8\ub378\uc744 \ucd94\ub860 \ubaa8\ub4dc\ub85c \ubc14\uafb8\uae30 \uc704\ud574\uc11c\n`torch_model.eval()` \ub610\ub294 `torch_model.train(False)` \ub97c \ud638\ucd9c\ud558\ub294 \uac83\uc774\n\uc911\uc694\ud569\ub2c8\ub2e4. \uc774\ub294 dropout\uc774\ub098 batchnorm\uacfc \uac19\uc740 \uc5f0\uc0b0\ub4e4\uc774 \ucd94\ub860\uacfc \ud559\uc2b5\n\ubaa8\ub4dc\uc5d0\uc11c \ub2e4\ub974\uac8c \uc791\ub3d9\ud558\uae30 \ub54c\ubb38\uc5d0 \ud544\uc694\ud569\ub2c8\ub2e4.\n"
      ]
    },
    {
      "cell_type": "code",
      "execution_count": null,
      "metadata": {
        "collapsed": false
      },
      "outputs": [],
      "source": [
        "# \ubbf8\ub9ac \ud559\uc2b5\ub41c \uac00\uc911\uce58\ub97c \uc77d\uc5b4\uc635\ub2c8\ub2e4\nmodel_url = 'https://s3.amazonaws.com/pytorch/test_data/export/superres_epoch100-44c6958e.pth'\nbatch_size = 1    # \uc784\uc758\uc758 \uc218\n\n# \ubaa8\ub378\uc744 \ubbf8\ub9ac \ud559\uc2b5\ub41c \uac00\uc911\uce58\ub85c \ucd08\uae30\ud654\ud569\ub2c8\ub2e4\nmap_location = lambda storage, loc: storage\nif torch.cuda.is_available():\n    map_location = None\ntorch_model.load_state_dict(model_zoo.load_url(model_url, map_location=map_location))\n\n# \ubaa8\ub378\uc744 \ucd94\ub860 \ubaa8\ub4dc\ub85c \uc804\ud658\ud569\ub2c8\ub2e4\ntorch_model.eval()"
      ]
    },
    {
      "cell_type": "markdown",
      "metadata": {},
      "source": [
        "\uc774\uc81c Tracing\uc774\ub098 \uc2a4\ud06c\ub9bd\ud305\uc744 \ud1b5\ud574\uc11c PyTorch \ubaa8\ub378\uc744 \ubcc0\ud658\ud560 \uc218 \uc788\uc2b5\ub2c8\ub2e4. \uc774\n\ud29c\ud1a0\ub9ac\uc5bc\uc5d0\uc11c\ub294 tracing\uc744 \ud1b5\ud574 \ubcc0\ud658\ub41c \ubaa8\ub378\uc744 \uc0ac\uc6a9\ud558\ub3c4\ub85d \ud558\uaca0\uc2b5\ub2c8\ub2e4.\n\ubaa8\ub378\uc744 \ubcc0\ud658\ud558\uae30 \uc704\ud574\uc11c\ub294 `torch.onnx.export()` \ud568\uc218\ub97c \ud638\ucd9c\ud569\ub2c8\ub2e4. \uc774\n\ud568\uc218\ub294 \ubaa8\ub378\uc744 \uc2e4\ud589\ud558\uc5ec \uc5b4\ub5a4 \uc5f0\uc0b0\uc790\ub4e4\uc774 \ucd9c\ub825\uac12\uc744 \uacc4\uc0b0\ud558\ub294\ub370\n\uc0ac\uc6a9\ub418\uc5c8\ub294\uc9c0\ub97c \uae30\ub85d\ud569\ub2c8\ub2e4. `export` \ud568\uc218\uac00 \ubaa8\ub378\uc744 \uc2e4\ud589\ud558\uae30 \ub54c\ubb38\uc5d0,\n\uc6b0\ub9ac\uac00 \uc9c1\uc811 \ud150\uc11c\ub97c \uc785\ub825\uac12\uc73c\ub85c \ub118\uaca8\uc8fc\uc5b4\uc57c \ud569\ub2c8\ub2e4. \uc774 \ud150\uc11c\uc758 \uac12\uc740 \uc54c\ub9de\uc740\n\uc790\ub8cc\ud615\uacfc \ubaa8\uc591\uc774\ub77c\uba74 \ub79c\ub364\ud558\uac8c \uacb0\uc815\ub418\uc5b4\ub3c4 \ubb34\ubc29\ud569\ub2c8\ub2e4. \ud2b9\uc815 \ucc28\uc6d0\uc744 \ub3d9\uc801\n\ucc28\uc6d0\uc73c\ub85c \uc9c0\uc815\ud558\uc9c0 \uc54a\ub294 \uc774\uc0c1, ONNX\ub85c \ubcc0\ud658\ub41c \uadf8\ub798\ud504\uc758 \uacbd\uc6b0 \uc785\ub825\uac12\uc758 \ud06c\uae30\ub294\n\ubaa8\ub4e0 \ucc28\uc6d0\uc5d0 \ub300\ud574 \uace0\uc815\ub429\ub2c8\ub2e4. \uc608\uc2dc\uc5d0\uc11c\ub294 \ubaa8\ub378\uc774 \ud56d\uc0c1 \ubc30\uce58 \uc0ac\uc774\uc988 1\uc744\n\uc0ac\uc6a9\ud558\ub3c4\ub85d \ubcc0\ud658\ud558\uc600\uc9c0\ub9cc, `torch.onnx.export()` \uc758 `dynamic_axes` \uc778\uc790\uc758\n\uccab\ubc88\uc9f8 \ucc28\uc6d0\uc740 \ub3d9\uc801 \ucc28\uc6d0\uc73c\ub85c \uc9c0\uc815\ud569\ub2c8\ub2e4. \ub530\ub77c\uc11c \ubcc0\ud658\ub41c \ubaa8\ub378\uc740 \uc784\uc758\uc758\nbatch\\_size\uc5d0 \ub300\ud574 \\[batch\\_size, 1, 224, 224\\] \uc0ac\uc774\uc988 \uc785\ub825\uac12\uc744 \ubc1b\uc744 \uc218\n\uc788\uc2b5\ub2c8\ub2e4.\n\nPyTorch\uc758 \ubcc0\ud658 \uc778\ud130\ud398\uc774\uc2a4\uc5d0 \ub300\ud574 \ub354 \uc790\uc138\ud788 \uc54c\uace0 \uc2f6\ub2e4\uba74 [torch.onnx\n\ubb38\uc11c](https://pytorch.org/docs/master/onnx.html) \ub97c \ucc38\uace0\ud574\uc8fc\uc138\uc694.\n"
      ]
    },
    {
      "cell_type": "code",
      "execution_count": null,
      "metadata": {
        "collapsed": false
      },
      "outputs": [],
      "source": [
        "# \ubaa8\ub378\uc5d0 \ub300\ud55c \uc785\ub825\uac12\nx = torch.randn(batch_size, 1, 224, 224, requires_grad=True)\ntorch_out = torch_model(x)\n\n# \ubaa8\ub378 \ubcc0\ud658\ntorch.onnx.export(torch_model,               # \uc2e4\ud589\ub420 \ubaa8\ub378\n                  x,                         # \ubaa8\ub378 \uc785\ub825\uac12 (\ud29c\ud50c \ub610\ub294 \uc5ec\ub7ec \uc785\ub825\uac12\ub4e4\ub3c4 \uac00\ub2a5)\n                  \"super_resolution.onnx\",   # \ubaa8\ub378 \uc800\uc7a5 \uacbd\ub85c (\ud30c\uc77c \ub610\ub294 \ud30c\uc77c\uacfc \uc720\uc0ac\ud55c \uac1d\uccb4 \ubaa8\ub450 \uac00\ub2a5)\n                  export_params=True,        # \ubaa8\ub378 \ud30c\uc77c \uc548\uc5d0 \ud559\uc2b5\ub41c \ubaa8\ub378 \uac00\uc911\uce58\ub97c \uc800\uc7a5\ud560\uc9c0\uc758 \uc5ec\ubd80\n                  opset_version=10,          # \ubaa8\ub378\uc744 \ubcc0\ud658\ud560 \ub54c \uc0ac\uc6a9\ud560 ONNX \ubc84\uc804\n                  do_constant_folding=True,  # \ucd5c\uc801\ud654\uc2dc \uc0c1\uc218\ud3f4\ub529\uc744 \uc0ac\uc6a9\ud560\uc9c0\uc758 \uc5ec\ubd80\n                  input_names = ['input'],   # \ubaa8\ub378\uc758 \uc785\ub825\uac12\uc744 \uac00\ub9ac\ud0a4\ub294 \uc774\ub984\n                  output_names = ['output'], # \ubaa8\ub378\uc758 \ucd9c\ub825\uac12\uc744 \uac00\ub9ac\ud0a4\ub294 \uc774\ub984\n                  dynamic_axes={'input' : {0 : 'batch_size'},    # \uac00\ubcc0\uc801\uc778 \uae38\uc774\ub97c \uac00\uc9c4 \ucc28\uc6d0\n                                'output' : {0 : 'batch_size'}})"
      ]
    },
    {
      "cell_type": "markdown",
      "metadata": {},
      "source": [
        "ONNX \ub7f0\ud0c0\uc784\uc5d0\uc11c \ubcc0\ud658\ub41c \ubaa8\ub378\uc744 \uc0ac\uc6a9\ud588\uc744 \ub54c \uac19\uc740 \uacb0\uacfc\ub97c \uc5bb\ub294\uc9c0 \ud655\uc778\ud558\uae30\n\uc704\ud574\uc11c `torch_out` \ub97c \uacc4\uc0b0\ud569\ub2c8\ub2e4.\n\nONNX \ub7f0\ud0c0\uc784\uc5d0\uc11c\uc758 \ubaa8\ub378 \uacb0\uacfc\uac12\uc744 \ud655\uc778\ud558\uae30 \uc804\uc5d0 \uba3c\uc800 ONNX API\ub97c \uc0ac\uc6a9\ud574\nONNX \ubaa8\ub378\uc744 \ud655\uc778\ud574\ubcf4\ub3c4\ub85d \ud558\uaca0\uc2b5\ub2c8\ub2e4. \uba3c\uc800,\n`onnx.load(\"super_resolution.onnx\")` \ub294 \uc800\uc7a5\ub41c \ubaa8\ub378\uc744 \uc77d\uc5b4\uc628 \ud6c4 \uba38\uc2e0\ub7ec\ub2dd\n\ubaa8\ub378\uc744 \ucde8\ud569\ud558\uc5ec \uc800\uc7a5\ud558\uace0 \uc788\ub294 \uc0c1\uc704 \ud30c\uc77c \ucee8\ud14c\uc774\ub108\uc778 `onnx.ModelProto` \ub97c\n\ub9ac\ud134\ud569\ub2c8\ub2e4. `onnx.ModelProto` \uc5d0 \ub300\ud574 \ub354 \uc790\uc138\ud55c \uac83\uc740 [onnx.proto\n\uae30\uc220\ubb38\uc11c](https://github.com/onnx/onnx/blob/master/onnx/onnx.proto) \uc5d0\uc11c\n\ud655\uc778\ud558\uc2e4 \uc218 \uc788\uc2b5\ub2c8\ub2e4. `onnx.checker.check_model(onnx_model)` \ub294 \ubaa8\ub378\uc758\n\uad6c\uc870\ub97c \ud655\uc778\ud558\uace0 \ubaa8\ub378\uc774 \uc720\ud6a8\ud55c \uc2a4\ud0a4\ub9c8(valid schema)\ub97c \uac00\uc9c0\uace0 \uc788\ub294\uc9c0\ub97c\n\uccb4\ud06c\ud569\ub2c8\ub2e4. ONNX \uadf8\ub798\ud504\uc758 \uc720\ud6a8\uc131\uc740 \ubaa8\ub378\uc758 \ubc84\uc804, \uadf8\ub798\ud504 \uad6c\uc870, \ub178\ub4dc\ub4e4,\n\uadf8\ub9ac\uace0 \uc785\ub825\uac12\uacfc \ucd9c\ub825\uac12\ub4e4\uc744 \ubaa8\ub450 \uccb4\ud06c\ud558\uc5ec \uacb0\uc815\ub429\ub2c8\ub2e4.\n"
      ]
    },
    {
      "cell_type": "code",
      "execution_count": null,
      "metadata": {
        "collapsed": false
      },
      "outputs": [],
      "source": [
        "import onnx\n\nonnx_model = onnx.load(\"super_resolution.onnx\")\nonnx.checker.check_model(onnx_model)"
      ]
    },
    {
      "cell_type": "markdown",
      "metadata": {},
      "source": [
        "\uc774\uc81c ONNX \ub7f0\ud0c0\uc784\uc758 Python API\ub97c \ud1b5\ud574 \uacb0\uacfc\uac12\uc744 \uacc4\uc0b0\ud574\ubcf4\ub3c4\ub85d \ud558\uaca0\uc2b5\ub2c8\ub2e4.\n\uc774 \ubd80\ubd84\uc740 \ubcf4\ud1b5 \ubcc4\ub3c4\uc758 \ud504\ub85c\uc138\uc2a4 \ub610\ub294 \ubcc4\ub3c4\uc758 \uba38\uc2e0\uc5d0\uc11c \uc2e4\ud589\ub418\uc9c0\ub9cc, \uc774\n\ud29c\ud1a0\ub9ac\uc5bc\uc5d0\uc11c\ub294 \ubaa8\ub378\uc774 ONNX \ub7f0\ud0c0\uc784\uacfc PyTorch\uc5d0\uc11c \ub3d9\uc77c\ud55c \uacb0\uacfc\ub97c\n\ucd9c\ub825\ud558\ub294\uc9c0\ub97c \ud655\uc778\ud558\uae30 \uc704\ud574 \ub3d9\uc77c\ud55c \ud504\ub85c\uc138\uc2a4\uc5d0\uc11c \uacc4\uc18d \uc2e4\ud589\ud558\ub3c4\ub85d\n\ud558\uaca0\uc2b5\ub2c8\ub2e4.\n\n\ubaa8\ub378\uc744 ONNX \ub7f0\ud0c0\uc784\uc5d0\uc11c \uc2e4\ud589\ud558\uae30 \uc704\ud574\uc11c\ub294 \ubbf8\ub9ac \uc124\uc815\ub41c \uc778\uc790\ub4e4(\ubcf8\n\uc608\uc81c\uc5d0\uc11c\ub294 \uae30\ubcf8\uac12\uc744 \uc0ac\uc6a9\ud569\ub2c8\ub2e4)\ub85c \ubaa8\ub378\uc744 \uc704\ud55c \ucd94\ub860 \uc138\uc158\uc744 \uc0dd\uc131\ud574\uc57c\n\ud569\ub2c8\ub2e4. \uc138\uc158\uc774 \uc0dd\uc131\ub418\uba74, \ubaa8\ub378\uc758 run() API\ub97c \uc0ac\uc6a9\ud558\uc5ec \ubaa8\ub378\uc744 \uc2e4\ud589\ud569\ub2c8\ub2e4.\n\uc774 API\uc758 \ub9ac\ud134\uac12\uc740 ONNX \ub7f0\ud0c0\uc784\uc5d0\uc11c \uc5f0\uc0b0\ub41c \ubaa8\ub378\uc758 \uacb0\uacfc\uac12\ub4e4\uc744 \ud3ec\ud568\ud558\uace0 \uc788\ub294\n\ub9ac\uc2a4\ud2b8\uc785\ub2c8\ub2e4.\n"
      ]
    },
    {
      "cell_type": "code",
      "execution_count": null,
      "metadata": {
        "collapsed": false
      },
      "outputs": [],
      "source": [
        "import onnxruntime\n\nort_session = onnxruntime.InferenceSession(\"super_resolution.onnx\", providers=[\"CPUExecutionProvider\"])\n\ndef to_numpy(tensor):\n    return tensor.detach().cpu().numpy() if tensor.requires_grad else tensor.cpu().numpy()\n\n# ONNX \ub7f0\ud0c0\uc784\uc5d0\uc11c \uacc4\uc0b0\ub41c \uacb0\uacfc\uac12\nort_inputs = {ort_session.get_inputs()[0].name: to_numpy(x)}\nort_outs = ort_session.run(None, ort_inputs)\n\n# ONNX \ub7f0\ud0c0\uc784\uacfc PyTorch\uc5d0\uc11c \uc5f0\uc0b0\ub41c \uacb0\uacfc\uac12 \ube44\uad50\nnp.testing.assert_allclose(to_numpy(torch_out), ort_outs[0], rtol=1e-03, atol=1e-05)\n\nprint(\"Exported model has been tested with ONNXRuntime, and the result looks good!\")"
      ]
    },
    {
      "cell_type": "markdown",
      "metadata": {},
      "source": [
        "\uc774\uc81c PyTorch\uc640 ONNX \ub7f0\ud0c0\uc784\uc5d0\uc11c \uc5f0\uc0b0\ub41c \uacb0\uacfc\uac12\uc774 \uc11c\ub85c \uc77c\uce58\ud558\ub294\uc9c0 \uc624\ucc28\ubc94\uc704(\n`rtol=1e-03` \uc640 `atol=1e-05`) \uc774\ub0b4\uc5d0\uc11c \ud655\uc778\ud574\uc57c \ud569\ub2c8\ub2e4. \ub9cc\uc57d \uacb0\uacfc\uac00\n\uc77c\uce58\ud558\uc9c0 \uc54a\ub294\ub2e4\uba74 ONNX \ubcc0\ud658\uae30\uc5d0 \ubb38\uc81c\uac00 \uc788\ub294 \uac83\uc774\ub2c8 \uc800\ud76c\uc5d0\uac8c \uc54c\ub824\uc8fc\uc2dc\uae30\n\ubc14\ub78d\ub2c8\ub2e4.\n"
      ]
    },
    {
      "cell_type": "markdown",
      "metadata": {},
      "source": [
        "ONNX \ub7f0\ud0c0\uc784\uc5d0\uc11c \uc774\ubbf8\uc9c0\ub97c \uc785\ub825\uac12\uc73c\ub85c \ubaa8\ub378\uc744 \uc2e4\ud589\ud558\uae30\n===================================================\n"
      ]
    },
    {
      "cell_type": "markdown",
      "metadata": {},
      "source": [
        "\uc9c0\uae08\uae4c\uc9c0 PyTorch \ubaa8\ub378\uc744 \ubcc0\ud658\ud558\uace0 \uc5b4\ub5bb\uac8c ONNX \ub7f0\ud0c0\uc784\uc5d0\uc11c \uad6c\ub3d9\ud558\ub294\uc9c0\n\uac00\uc0c1\uc758 \ud150\uc11c\ub97c \uc785\ub825\uac12\uc73c\ub85c \ud558\uc5ec \uc0b4\ud3b4\ubcf4\uc558\uc2b5\ub2c8\ub2e4.\n"
      ]
    },
    {
      "cell_type": "markdown",
      "metadata": {},
      "source": [
        "\ubcf8 \ud29c\ud1a0\ub9ac\uc5bc\uc5d0\uc11c\ub294 \uc544\ub798\uc640 \uac19\uc740 \uc720\uba85\ud55c \uace0\uc591\uc774 \uc0ac\uc9c4\uc744 \uc0ac\uc6a9\ud558\ub3c4\ub85d\n\ud558\uaca0\uc2b5\ub2c8\ub2e4.\n\n![](https://tutorials.pytorch.kr/_static/img/cat_224x224.jpg)\n"
      ]
    },
    {
      "cell_type": "markdown",
      "metadata": {},
      "source": [
        "\uba3c\uc800, PIL \ub77c\uc774\ube0c\ub7ec\ub9ac\ub97c \uc0ac\uc6a9\ud558\uc5ec \uc774\ubbf8\uc9c0\ub97c \ub85c\ub4dc\ud558\uace0 \uc804\ucc98\ub9ac\ud558\uaca0\uc2b5\ub2c8\ub2e4. \uc774\n\uc804\ucc98\ub9ac\ub294 \uc2e0\uacbd\ub9dd \ud559\uc2b5\uacfc \ud14c\uc2a4\ud2b8\uc5d0 \ubcf4\ud3b8\uc801\uc73c\ub85c \uc801\uc6a9\ub418\uace0 \uc788\ub294 \uc804\ucc98\ub9ac\n\uacfc\uc815\uc785\ub2c8\ub2e4.\n\n\uba3c\uc800 \uc774\ubbf8\uc9c0\ub97c \ubaa8\ub378\uc758 \uc785\ub825\uac12 \ud06c\uae30(224x224)\uc5d0 \ub9de\uac8c \ub9ac\uc0ac\uc774\uc988\ud569\ub2c8\ub2e4.\n\n:   \uadf8\ub9ac\uace0 \uc774\ubbf8\uc9c0\ub97c Y, Cb, Cr \uc131\ubd84\uc73c\ub85c \ubd84\ud574\ud569\ub2c8\ub2e4.\n\nY \uc131\ubd84\\[\uc5ed\uc790 \uc8fc: \ud718\ub3c4 \uc131\ubd84\\]\uc740 \uadf8\ub808\uc774\uc2a4\ucf00\uc77c(\ud68c\uc0c9\uc870) \uc774\ubbf8\uc9c0\ub97c \ub098\ud0c0\ub0b4\uace0,\nCb \uc131\ubd84\uc740 \ud30c\ub780\uc0c9\uc5d0\uc11c \ubc1d\uae30\ub97c \ube80 \uc0c9\ucc28 \uc131\ubd84, Cr\uc740 \ube68\uac15\uc0c9\uc5d0\uc11c \ubc1d\uae30\ub97c \ube80 \uc0c9\ucc28\n\uc131\ubd84\uc744 \ub098\ud0c0\ub0c5\ub2c8\ub2e4. \uc0ac\ub78c\uc758 \ub208\uc740 Y \uc131\ubd84\uc5d0 \ub354 \ubbfc\uac10\ud558\uac8c \ubc18\uc751\ud558\uae30 \ub54c\ubb38\uc5d0\n\uc800\ud76c\uc5d0\uac8c\ub294 \ud604\uc7ac \uc774 \uc131\ubd84\uc774 \uc911\uc694\ud558\uace0, \uc774 Y \uc131\ubd84\uc744 \ubcc0\ud658\ud560 \uac83\uc785\ub2c8\ub2e4. Y\n\uc131\ubd84\uc744 \ubf51\uc544\ub0b8 \ub4a4\uc5d0, \ucd94\ucd9c\ud55c Y \uc131\ubd84\uc744 \ubaa8\ub378\uc758 \uc785\ub825\uac12\uc774 \ub420 \ud150\uc11c\ub85c\n\ubcc0\ud658\ud569\ub2c8\ub2e4.\n"
      ]
    },
    {
      "cell_type": "code",
      "execution_count": null,
      "metadata": {
        "collapsed": false
      },
      "outputs": [],
      "source": [
        "from PIL import Image\nimport torchvision.transforms as transforms\n\nimg = Image.open(\"./_static/img/cat.jpg\")\n\nresize = transforms.Resize([224, 224])\nimg = resize(img)\n\nimg_ycbcr = img.convert('YCbCr')\nimg_y, img_cb, img_cr = img_ycbcr.split()\n\nto_tensor = transforms.ToTensor()\nimg_y = to_tensor(img_y)\nimg_y.unsqueeze_(0)"
      ]
    },
    {
      "cell_type": "markdown",
      "metadata": {},
      "source": [
        "\ub2e4\uc74c\uc740 \ub9ac\uc0ac\uc774\uc988\ub41c \uadf8\ub808\uc774\uc2a4\ucf00\uc77c \uace0\uc591\uc774 \uc774\ubbf8\uc9c0 \ud150\uc11c\ub97c \uc55e\uc11c \uc124\uba85\ud588\ub358 \uac83\ucc98\ub7fc\n\ucd08\ud574\uc0c1\ub3c4 \ubaa8\ub378\uc5d0 \ub118\uaca8\uc8fc\uc5b4 ONNX \ub7f0\ud0c0\uc784\uc5d0\uc11c \uc2e4\ud589\ud558\ub3c4\ub85d \ud558\uaca0\uc2b5\ub2c8\ub2e4.\n"
      ]
    },
    {
      "cell_type": "code",
      "execution_count": null,
      "metadata": {
        "collapsed": false
      },
      "outputs": [],
      "source": [
        "ort_inputs = {ort_session.get_inputs()[0].name: to_numpy(img_y)}\nort_outs = ort_session.run(None, ort_inputs)\nimg_out_y = ort_outs[0]"
      ]
    },
    {
      "cell_type": "markdown",
      "metadata": {},
      "source": [
        "\uc774\ub807\uac8c \ud558\uba74 \ubaa8\ub378\uc758 \uacb0\uacfc\uac12\uc740 \ud150\uc11c\uac00 \ub429\ub2c8\ub2e4. \uc774\uc81c \ubaa8\ub378\uc758 \uacb0\uacfc\uac12\uc744 \ucc98\ub9ac\ud558\uc5ec\n\uacb0\uacfc\uac12 \ud150\uc11c\uc5d0\uc11c \ub9c8\uc9c0\ub9c9 \ucd5c\uc885 \ucd9c\ub825 \uc774\ubbf8\uc9c0\ub97c \ub9cc\ub4e4\uace0 \uc774\ub97c \uc800\uc7a5\ud574\ubcf4\ub3c4\ub85d\n\ud558\uaca0\uc2b5\ub2c8\ub2e4. \ud6c4\ucc98\ub9ac \ub2e8\uacc4\ub294\n[\ub9c1\ud06c](https://github.com/pytorch/examples/blob/master/super_resolution/super_resolve.py)\n\uc5d0 \uad6c\ud604\ub418\uc5b4\uc788\ub294 \ucd08\ud574\uc0c1\ub3c4 \ubaa8\ub378 \ucf54\ub4dc\uc5d0\uc11c \uac00\uc838\uc628 \uac83\uc785\ub2c8\ub2e4.\n"
      ]
    },
    {
      "cell_type": "code",
      "execution_count": null,
      "metadata": {
        "collapsed": false
      },
      "outputs": [],
      "source": [
        "img_out_y = Image.fromarray(np.uint8((img_out_y[0] * 255.0).clip(0, 255)[0]), mode='L')\n\n# PyTorch \ubc84\uc804\uc758 \ud6c4\ucc98\ub9ac \uacfc\uc815 \ucf54\ub4dc\ub97c \uc774\uc6a9\ud574 \uacb0\uacfc \uc774\ubbf8\uc9c0 \ub9cc\ub4e4\uae30\nfinal_img = Image.merge(\n    \"YCbCr\", [\n        img_out_y,\n        img_cb.resize(img_out_y.size, Image.BICUBIC),\n        img_cr.resize(img_out_y.size, Image.BICUBIC),\n    ]).convert(\"RGB\")\n\n# \uc774\ubbf8\uc9c0\ub97c \uc800\uc7a5\ud558\uace0 \ubaa8\ubc14\uc77c \uae30\uae30\uc5d0\uc11c\uc758 \uacb0\uacfc \uc774\ubbf8\uc9c0\uc640 \ube44\uad50\ud558\uae30\nfinal_img.save(\"./_static/img/cat_superres_with_ort.jpg\")"
      ]
    },
    {
      "cell_type": "markdown",
      "metadata": {},
      "source": [
        "![](https://tutorials.pytorch.kr/_static/img/cat_superres_with_ort.jpg)\n\nONNX \ub7f0\ud0c0\uc784\uc740 \ud06c\ub85c\uc2a4\ud50c\ub7ab\ud3fc \uc5d4\uc9c4\uc73c\ub85c\uc11c CPU\uc640 GPU \ubfd0\ub9cc \uc544\ub2c8\ub77c \uc5ec\ub7ec\n\ud50c\ub7ab\ud3fc\uc5d0\uc11c \uc2e4\ud589\ub420 \uc218 \uc788\uc2b5\ub2c8\ub2e4.\n\nONNX \ub7f0\ud0c0\uc784\uc740 Azure Machine Learning Services\uc640 \uac19\uc740 \ud074\ub77c\uc6b0\ub4dc\uc5d0 \ubc30\ud3ec\ub418\uc5b4\n\ubaa8\ub378 \ucd94\ub860\uc744 \ud558\ub294\ub370 \uc0ac\uc6a9\ub420 \uc218\ub3c4 \uc788\uc2b5\ub2c8\ub2e4. \ub354 \uc790\uc138\ud55c \ub0b4\uc6a9\uc740\n[\ub9c1\ud06c](https://docs.microsoft.com/en-us/azure/machine-learning/service/concept-onnx)\n\ub97c \ucc38\uc870\ud574\uc8fc\uc2ed\uc2dc\uc624.\n\nONNX \ub7f0\ud0c0\uc784\uc758 \uc131\ub2a5\uc5d0 \uad00\ud55c \uac83\uc740\n[\uc5ec\uae30](https://github.com/microsoft/onnxruntime#high-performance) \uc5d0\uc11c\n\ud655\uc778\ud558\uc2e4 \uc218 \uc788\uc2b5\ub2c8\ub2e4.\n\nONNX \ub7f0\ud0c0\uc784\uc5d0 \uad00\ud55c \ub354 \uc790\uc138\ud55c \ub0b4\uc6a9\uc740 [\uc774\n\uacf3](https://github.com/microsoft/onnxruntime) \uc744 \ucc38\uc870\ud574 \uc8fc\uc138\uc694.\n"
      ]
    }
  ],
  "metadata": {
    "kernelspec": {
      "display_name": "Python 3",
      "language": "python",
      "name": "python3"
    },
    "language_info": {
      "codemirror_mode": {
        "name": "ipython",
        "version": 3
      },
      "file_extension": ".py",
      "mimetype": "text/x-python",
      "name": "python",
      "nbconvert_exporter": "python",
      "pygments_lexer": "ipython3",
      "version": "3.10.14"
    }
  },
  "nbformat": 4,
  "nbformat_minor": 0
}