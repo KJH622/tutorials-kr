{
  "cells": [
    {
      "cell_type": "code",
      "execution_count": null,
      "metadata": {
        "collapsed": false
      },
      "outputs": [],
      "source": [
        "# Google Colab\uc5d0\uc11c \ub178\ud2b8\ubd81\uc744 \uc2e4\ud589\ud558\uc2e4 \ub54c\uc5d0\ub294 \n# https://tutorials.pytorch.kr/beginner/colab \ub97c \ucc38\uace0\ud558\uc138\uc694.\n%matplotlib inline"
      ]
    },
    {
      "cell_type": "markdown",
      "metadata": {},
      "source": [
        "TorchText\ub97c \uc0ac\uc6a9\ud558\uc5ec \uc0ac\uc6a9\uc790 \uc815\uc758 \uae00 \ub370\uc774\ud130\uc14b \uc804\ucc98\ub9ac\ud558\uae30\n=======================================================\n\n**\ubc88\uc5ed**: [Anupam Sharma](https://anp-scp.github.io/) **\uc800\uc790**:\n[\uc7a5\ud6a8\uc601](https://github.com/hyoyoung)\n\nThis tutorial illustrates the usage of torchtext on a dataset that is\nnot built-in. In the tutorial, we will preprocess a dataset that can be\nfurther utilized to train a sequence-to-sequence model for machine\ntranslation (something like, in this tutorial: [Sequence to Sequence\nLearning with Neural\nNetworks](https://github.com/bentrevett/pytorch-seq2seq/blob/master/1%20-%20Sequence%20to%20Sequence%20Learning%20with%20Neural%20Networks.ipynb))\nbut without using legacy version of torchtext. \uc774 \ud29c\ud1a0\ub9ac\uc5bc\uc5d0\uc11c\ub294 \uae30\ubcf8\n\uc81c\uacf5\ub418\uc9c0 \uc54a\ub294 \ub370\uc774\ud130\uc14b\uc5d0\uc11c Torchtext\ub97c \uc0ac\uc6a9\ud558\ub294 \ubc29\ubc95\uc744 \uc124\uba85\ud569\ub2c8\ub2e4.\n\ud29c\ud1a0\ub9ac\uc5bc \uc548\uc5d0\uc11c\ub294 \uae30\uacc4 \ubc88\uc5ed\uc744 \uc704\ud55c \uc2dc\ud000\uc2a4 \uac04 \ubaa8\ub378\uc744 \ud6c8\ub828\ud558\ub294 \ub370 \ucd94\uac00\ub85c\n\ud65c\uc6a9\ud560 \uc218 \uc788\ub294 \ub370\uc774\ud130\uc14b\ub97c \uc804\ucc98\ub9ac \ud560 \uac83\uc785\ub2c8\ub2e4. (\uc774 \ud29c\ud1a0\ub9ac\uc5bc\uacfc \ube44\uc2b7\ud569\ub2c8\ub2e4:\n[Sequence to Sequence Learning with Neural\nNetworks](https://github.com/bentrevett/pytorch-seq2seq/blob/master/1%20-%20Sequence%20to%20Sequence%20Learning%20with%20Neural%20Networks.ipynb))\n\uadf8\ub7ec\ub098 \ub808\uac70\uc2dc \ubc84\uc804\uc758 torchtext\ub97c \uc0ac\uc6a9\ud558\uc9c0 \uc54a\uc2b5\ub2c8\ub2e4.\n\n\uc774 \ud29c\ud1a0\ub9ac\uc5bc\uc5d0\uc11c\ub294 \uc544\ub798 \ubc29\ubc95\uc744 \ubc30\uc6cc\ubcf4\uaca0\uc2b5\ub2c8\ub2e4\n\n-   \ub370\uc774\ud130\uc14b \uc77d\uae30\n-   \ubb38\uc7a5 \ud1a0\ud070\ud654\ud558\uae30\n-   \ubb38\uc7a5\uc5d0 \ubcc0\ud658 \uc801\uc6a9\ud558\uae30\n-   \ubc84\ud0b7 \ubc30\uce58 \ucc98\ub9ac\n\n\uc601\uc5b4\uc5d0\uc11c \ub3c5\uc77c\uc5b4 \ubc88\uc5ed\uc744 \uc218\ud589\ud560 \uc218 \uc788\ub294 \ubaa8\ub378\uc744 \ud6c8\ub828\ud558\uae30 \uc704\ud574 \ub370\uc774\ud130\uc14b\uc744\n\uc900\ube44\ud574\uc57c \ud55c\ub2e4\uace0 \uac00\uc815\ud574 \ubcf4\uaca0\uc2b5\ub2c8\ub2e4. [Tatoeba\nProject](https://tatoeba.org/en)\uac00 \uc81c\uacf5\ud558\ub294 \ud0ed\uc73c\ub85c \uad6c\ubd84\ub41c \ub3c5\uc77c\uc5b4-\uc601\uc5b4\n\ubb38\uc7a5 \uc30d\uc744 \uc0ac\uc6a9\ud558\uaca0\uc2b5\ub2c8\ub2e4. \uc774 \ub370\uc774\ud130\ub294 [\ub2e4\uc6b4\ub85c\ub4dc\n\ub9c1\ud06c](https://www.manythings.org/anki/deu-eng.zip) \uc5d0\uc11c \ubc1b\uc744 \uc218\n\uc788\uc2b5\ub2c8\ub2e4.\n\n\ub2e4\ub978 \uc5b8\uc5b4\uc5d0 \ub300\ud55c \ubb38\uc7a5 \uc30d\uc740 [\ub2e4\uc6b4\ub85c\ub4dc \ub9c1\ud06c\n\\<https://www.manythings.org/anki/\\>]{.title-ref}\uc5d0\uc11c \ucc3e\uc744 \uc218 \uc788\uc2b5\ub2c8\ub2e4.\n"
      ]
    },
    {
      "cell_type": "markdown",
      "metadata": {},
      "source": [
        "Setup\n=====\n\n\uba3c\uc800 \ub370\uc774\ud130\uc14b\uc744 \ub2e4\uc6b4\ub85c\ub4dc\ud558\uace0, \uc555\ucd95\uc744 \ud47c \ub2e4\uc74c, [deu.txt]{.title-ref}\n\ud30c\uc77c\uc758 \uacbd\ub85c\ub97c \uc801\uc5b4\ub461\ub2c8\ub2e4.\n\n\ub2e4\uc74c \ud328\ud0a4\uc9c0\uac00 \uc124\uce58\ub418\uc5b4 \uc788\ub294\uc9c0 \ud655\uc778\ud569\ub2c8\ub2e4\n\n-   [Torchdata 0.6.0](https://pytorch.org/data/beta/index.html) ([\uc124\uce58\n    \ubc29\ubc95](https://github.com/pytorch/data))\n-   [Torchtext 0.15.0](https://pytorch.org/text/stable/index.html)\n    ([\uc124\uce58 \ubc29\ubc95](https://github.com/pytorch/text))\n-   [Spacy](https://spacy.io/usage)\n\n\uc5ec\uae30\uc11c\ub294 \\`Spacy\\`\ub97c \uc0ac\uc6a9\ud558\uc5ec \ud14d\uc2a4\ud2b8\ub97c \ud1a0\ud070\ud654\ud569\ub2c8\ub2e4. \uac04\ub2e8\ud788 \ub9d0\ud574\uc11c\n\ud1a0\ud070\ud654\ub294 \ubb38\uc7a5\uc744 \ub2e8\uc5b4\uc758 \ub9ac\uc2a4\ud2b8\ub85c \ubcc0\ud658\ud558\ub294 \uac83\uc744 \uc758\ubbf8\ud569\ub2c8\ub2e4. Spacy\ub294 \ub2e4\uc591\ud55c\n\uc790\uc5f0\uc5b4 \ucc98\ub9ac(NLP) \uc791\uc5c5\uc5d0 \uc0ac\uc6a9\ub418\ub294 \ud30c\uc774\uc36c \ud328\ud0a4\uc9c0\uc785\ub2c8\ub2e4.\n\n\uc544\ub798\uc640 \uac19\uc774 Spacy\uc5d0\uc11c \uc601\uc5b4\uc640 \ub3c5\uc77c\uc5b4 \ubaa8\ub378\uc744 \ub2e4\uc6b4\ub85c\ub4dc\ud569\ub2c8\ub2e4\n\n``` {.shell}\npython -m spacy download en_core_web_sm\npython -m spacy download de_core_news_sm\n```\n"
      ]
    },
    {
      "cell_type": "markdown",
      "metadata": {},
      "source": [
        "\ud544\uc694\ud55c \ubaa8\ub4c8\uc744 import \ud558\uba74\uc11c \uc2dc\uc791\ud569\ub2c8\ub2e4\n"
      ]
    },
    {
      "cell_type": "code",
      "execution_count": null,
      "metadata": {
        "collapsed": false
      },
      "outputs": [],
      "source": [
        "import torchdata.datapipes as dp\nimport torchtext.transforms as T\nimport spacy\nfrom torchtext.vocab import build_vocab_from_iterator\neng = spacy.load(\"en_core_web_sm\") # \uc601\uc5b4 \ubaa8\ub378\uc744 \ub85c\ub4dc\ud558\uc5ec \uc601\uc5b4 \ud14d\uc2a4\ud2b8\ub97c \ud1a0\ud070\ud654\ud569\ub2c8\ub2e4\nde = spacy.load(\"de_core_news_sm\") # \ub3c5\uc77c\uc5b4 \ubaa8\ub378\uc744 \ub85c\ub4dc\ud558\uc5ec \ub3c5\uc77c\uc5b4 \ud14d\uc2a4\ud2b8\ub97c \ud1a0\ud070\ud654\ud569\ub2c8\ub2e4"
      ]
    },
    {
      "cell_type": "markdown",
      "metadata": {},
      "source": [
        "\uc774\uc81c \ub370\uc774\ud130\uc14b\uc744 \uc77d\uc5b4\ub4e4\uc785\ub2c8\ub2e4\n"
      ]
    },
    {
      "cell_type": "code",
      "execution_count": null,
      "metadata": {
        "collapsed": false
      },
      "outputs": [],
      "source": [
        "FILE_PATH = 'data/deu.txt'\ndata_pipe = dp.iter.IterableWrapper([FILE_PATH])\ndata_pipe = dp.iter.FileOpener(data_pipe, mode='rb')\ndata_pipe = data_pipe.parse_csv(skip_lines=0, delimiter='\\t', as_tuple=True)"
      ]
    },
    {
      "cell_type": "markdown",
      "metadata": {},
      "source": [
        "\uc704\uc758 \ucf54\ub4dc \ube14\ub85d\uc5d0\uc11c\ub294 \ub2e4\uc74c\uacfc \uac19\uc740 \uc791\uc5c5\uc744 \uc218\ud589\ud558\uace0 \uc788\uc2b5\ub2c8\ub2e4\n\n1.  2\ubc88\uc9f8 \uc904\uc5d0\uc11c \ud30c\uc77c \uc774\ub984\uc758 \ubc18\ubcf5\uac00\ub2a5\ud55c \uac1d\uccb4\ub97c \uc0dd\uc131\ud558\uace0 \uc788\uc2b5\ub2c8\ub2e4\n2.  3\ubc88\uc9f8 \uc904\uc5d0\uc11c \ud574\ub2f9 \ubc18\ubcf5\uac00\ub2a5\ud55c \uac1d\uccb4\ub97c \\`FileOpener\\`\uc5d0 \uc804\ub2ec\ud558\uace0,\n    \ud30c\uc77c\uc744 \uc77d\uae30 \ubaa8\ub4dc\ub85c \uc5f4\uac8c \ub429\ub2c8\ub2e4.\n3.  4\ubc88\uc9f8 \uc904\uc5d0\uc11c \ud574\ub2f9 \ud30c\uc77c\uc744 \ud30c\uc2f1\ud558\ub294 \ud568\uc218\ub97c \ud638\ucd9c\ud569\ub2c8\ub2e4. \ud574\ub2f9 \ud568\uc218\ub294\n    \ud0ed\uc73c\ub85c \uad6c\ubd84\ub41c \ud30c\uc77c\uc758 \uac01\uac01 \uc904(row)\uc774 \uc788\ub294 \ubc18\ubcf5 \uac00\ub2a5\ud55c \ud29c\ud50c \uac1d\uccb4\ub97c\n    \ub9ac\ud134\ud569\ub2c8\ub2e4.\n\nDataPipe\ub294 \ub2e4\uc591\ud55c \ub3d9\uc791\uc744 \uc218\ud589\ud560\uc218 \uc788\ub294 \ub370\uc774\ud130 \uc14b \uac1d\uccb4\uc640 \ube44\uc2b7\ud558\uac8c \uc0dd\uac01\ud560\n\uc218 \uc788\uc2b5\ub2c8\ub2e4. DataPipe\uc5d0 \uad00\ud55c \uc790\uc138\ud55c \ub0b4\uc6a9\uc740 [\ud574\ub2f9\n\ud29c\ud1a0\ub9ac\uc5bc](https://pytorch.org/data/beta/dp_tutorial.html) \uc744 \ud655\uc778\ud558\uc138\uc694.\n\n\ubc18\ubcf5\uac00\ub2a5\ud55c \uac1d\uccb4\uac00 \uc544\ub798\uc640 \uac19\uc740 \ubb38\uc7a5 \uc30d\uc744 \uc9c0\ub154\ub294\uc9c0 \ud655\uc778\ud560 \uc218 \uc788\uc2b5\ub2c8\ub2e4.\n"
      ]
    },
    {
      "cell_type": "code",
      "execution_count": null,
      "metadata": {
        "collapsed": false
      },
      "outputs": [],
      "source": [
        "for sample in data_pipe:\n    print(sample)\n    break"
      ]
    },
    {
      "cell_type": "markdown",
      "metadata": {},
      "source": [
        "\ud55c \uc30d\uc758 \ubb38\uc7a5\uacfc \ud568\uaed8 \uc18d\uc131 \uc138\ubd80 \uc0ac\ud56d\uc774 \uac19\uc774 \uc788\ub2e4\ub294 \uc810\uc744 \ub208\uc5ec\uaca8 \ubcf4\uc2ed\uc2dc\uc694.\n\uc18d\uc131 \uc138\ubd80 \uc815\ubcf4\ub97c \uc81c\uac70\ud560\uc218 \uc788\ub294 \uc791\uc740 \ud568\uc218\ub97c \uc791\uc131\ud574\ubd05\uc2dc\ub2e4.\n"
      ]
    },
    {
      "cell_type": "code",
      "execution_count": null,
      "metadata": {
        "collapsed": false
      },
      "outputs": [],
      "source": [
        "def removeAttribution(row):\n    \"\"\"\n    \ucc98\uc74c \ub450 \uc694\uc18c\ub97c \ud29c\ud50c\uc5d0 \uc720\uc9c0\ud558\ub294 \ud568\uc218\n    \"\"\"\n    return row[:2]\ndata_pipe = data_pipe.map(removeAttribution)"
      ]
    },
    {
      "cell_type": "markdown",
      "metadata": {},
      "source": [
        "\uc704 \ucf54\ub4dc \ube14\ub85d\uc758 6\ubc88\uc9f8 \uc904\uc5d0 \uc788\ub294 [map]{.title-ref} \ud568\uc218\ub294 \\`data\\_pipe\\`\uc758\n\uac01 \uc694\uc18c\uc5d0 \ub300\ud574 \uc5b4\ub5a0\ud55c \ud568\uc218\ub97c \uc801\uc6a9\ud558\ub294 \ub370 \uc0ac\uc6a9\ud560 \uc218 \uc788\uc2b5\ub2c8\ub2e4. \uc774\uc81c\n\\`data\\_pipe\\`\uc5d0 \ub2e4\uc74c\uacfc \uac19\uc740 \ubb38\uc7a5\uc758 \ubb38\uc7a5 \uc30d\ub9cc \ud3ec\ud568\ub418\uc5b4 \uc788\uc74c\uc744 \ud655\uc778\ud560 \uc218\n\uc788\uc2b5\ub2c8\ub2e4.\n"
      ]
    },
    {
      "cell_type": "code",
      "execution_count": null,
      "metadata": {
        "collapsed": false
      },
      "outputs": [],
      "source": [
        "for sample in data_pipe:\n    print(sample)\n    break"
      ]
    },
    {
      "cell_type": "markdown",
      "metadata": {},
      "source": [
        "\uc774\uc81c \ud1a0\ud070\ud654\ub97c \uc218\ud589\ud558\ub294 \uba87 \uac00\uc9c0 \ud568\uc218\ub97c \uc815\uc758\ud574 \ubcf4\uaca0\uc2b5\ub2c8\ub2e4\n"
      ]
    },
    {
      "cell_type": "code",
      "execution_count": null,
      "metadata": {
        "collapsed": false
      },
      "outputs": [],
      "source": [
        "def engTokenize(text):\n    \"\"\"\n    \uc601\uc5b4 \ud14d\uc2a4\ud2b8\ub97c \ud1a0\ud070\ud654\ud558\uc5ec \ud1a0\ud070 \ub9ac\uc2a4\ud2b8\ub97c \ubc18\ud658\ud569\ub2c8\ub2e4.\n    \"\"\"\n    return [token.text for token in eng.tokenizer(text)]\n\ndef deTokenize(text):\n    \"\"\"\n    \ub3c5\uc77c\uc5b4 \ud14d\uc2a4\ud2b8\ub97c \ud1a0\ud070\ud654\ud558\uace0 \ud1a0\ud070 \ub9ac\uc2a4\ud2b8\ub97c \ubc18\ud658\ud569\ub2c8\ub2e4\n    \"\"\"\n    return [token.text for token in de.tokenizer(text)]"
      ]
    },
    {
      "cell_type": "markdown",
      "metadata": {},
      "source": [
        "\uc704 \ud568\uc218\ub294 \uc544\ub798\uc640 \uac19\uc774 \ud14d\uc2a4\ud2b8\ub97c \ubc1b\uc544 \ub2e8\uc5b4 \ub9ac\uc2a4\ud2b8\ub97c \ubc18\ud658\ud569\ub2c8\ub2e4\n"
      ]
    },
    {
      "cell_type": "code",
      "execution_count": null,
      "metadata": {
        "collapsed": false
      },
      "outputs": [],
      "source": [
        "print(engTokenize(\"Have a good day!!!\"))\nprint(deTokenize(\"Haben Sie einen guten Tag!!!\"))"
      ]
    },
    {
      "cell_type": "markdown",
      "metadata": {},
      "source": [
        "\uc5b4\ud718 \uad6c\ucd95\ud558\uae30\n=============\n\nLet us consider an English sentence as the source and a German sentence\nas the target. \uc601\uc5b4 \ubb38\uc7a5\uc744 \uc18c\uc2a4\ub85c, \ub3c5\uc77c\uc5b4 \ubb38\uc7a5\uc744 \ud0c0\uac9f\uc73c\ub85c \uc0dd\uac01\ud574 \ubd05\uc2dc\ub2e4\n\n\uc5b4\ud718\ub294 \ub370\uc774\ud130\uc14b\uc5d0 \uc788\ub294 \uace0\uc720\ud55c \ub2e8\uc5b4\uc758 \uc9d1\ud569\uc73c\ub85c \uac04\uc8fc\ud560 \uc218 \uc788\uc2b5\ub2c8\ub2e4 \uc774\uc81c\n\uc18c\uc2a4\uc640 \ud0c0\uac9f \ubaa8\ub450\uc5d0 \ub300\ud55c \uc5b4\ud718\ub97c \uad6c\ucd95\ud558\uaca0\uc2b5\ub2c8\ub2e4\n\n\ubc18\ubcf5\uc790\uc758 \ud29c\ud50c \uc694\uc18c\uc5d0\uc11c \ud1a0\ud070\uc744 \uac00\uc838\uc624\ub294 \ud568\uc218\ub97c \uc815\uc758\ud574 \ubcf4\uaca0\uc2b5\ub2c8\ub2e4\n"
      ]
    },
    {
      "cell_type": "code",
      "execution_count": null,
      "metadata": {
        "collapsed": false
      },
      "outputs": [],
      "source": [
        "def getTokens(data_iter, place):\n    \"\"\"\n    \ubc18\ubcf5\uc790\uc5d0\uc11c \ud1a0\ud070\uc744 \uc0dd\uc131(yield)\ud558\ub294 \ud568\uc218. \ubc18\ubcf5\uc790\ub294 \ubb38\uc7a5\uc758 \ud29c\ud50c\uc744 \ud3ec\ud568 (\uc18c\uc2a4\uc640 \ud0c0\uac9f).\n    `place` \ub9e4\uac1c\ubcc0\uc218\ub294 \ubc18\ud658\ub418\ub294 \ud1a0\ud070\uc744 \uc778\ub371\uc2f1\ud558\ub294 \ubd80\ubd84\uc744 \uc815\uc758\ud569\ub2c8\ub2e4.\n    \uc18c\uc2a4\uc758 \uacbd\uc6b0 `place=0`, \ud0c0\uac9f\uc758 \uacbd\uc6b0 `place=1`\uc785\ub2c8\ub2e4\n    \"\"\"\n    for english, german in data_iter:\n        if place == 0:\n            yield engTokenize(english)\n        else:\n            yield deTokenize(german)"
      ]
    },
    {
      "cell_type": "markdown",
      "metadata": {},
      "source": [
        "\uc774\uc81c \uc18c\uc2a4 \uc5b4\ud718\ub97c \ube4c\ub4dc\ud558\uaca0\uc2b5\ub2c8\ub2e4\n"
      ]
    },
    {
      "cell_type": "code",
      "execution_count": null,
      "metadata": {
        "collapsed": false
      },
      "outputs": [],
      "source": [
        "source_vocab = build_vocab_from_iterator(\n    getTokens(data_pipe,0),\n    min_freq=2,\n    specials= ['<pad>', '<sos>', '<eos>', '<unk>'],\n    special_first=True\n)\nsource_vocab.set_default_index(source_vocab['<unk>'])"
      ]
    },
    {
      "cell_type": "markdown",
      "metadata": {},
      "source": [
        "\uc704 \ucf54\ub4dc\ub294 \ubc18\ubcf5\uc790\uc5d0\uc11c \uc5b4\ud718\ub97c \ub9cc\ub4ed\ub2c8\ub2e4.\n\n-   2\ubc88\uc9f8 \uc904\uc5d0\uc11c, \uc18c\uc2a4 \ubb38\uc7a5 \uc5b4\ud718\uac00 \ud544\uc694\ud558\ubbc0\ub85c, [getTokens()]{.title-ref}\n    \ud568\uc218\ub97c \\`place=0\\`\uc640 \ud568\uaed8 \ud638\ucd9c\ud569\ub2c8\ub2e4\n-   3\ubc88\uc9f8 \uc904\uc5d0\uc11c, \\`min\\_freq=2\\`\ub85c \uc124\uc815\ud569\ub2c8\ub2e4. \uc774 \ub73b\uc740 \ub2e8\uc5b4\uac00 2\ubc88\n    \uc774\ud558\ub85c \ub098\uc624\ub294 \uacbd\uc6b0 \uac74\ub108\ub701\ub2c8\ub2e4\n-   4\ubc88\uc9f8 \uc904\uc5d0\uc11c, \uba87 \uac00\uc9c0 \ud2b9\uc218 \ud1a0\ud070\uc744 \uc9c0\uc815\ud569\ub2c8\ub2e4\n    -   [\\<sos\\>]{.title-ref} \ubb38\uc7a5\uc758 \uc2dc\uc791\n    -   [\\<eos\\>]{.title-ref} \ubb38\uc7a5\uc758 \ub05d\n    -   [\\<unk\\>]{.title-ref} \uc54c\uc218\uc5c6\ub294 \ub2e8\uc5b4. \uc54c \uc218 \uc5c6\ub294 \ub2e8\uc5b4\uc758 \uc608\ub294\n        [min\\_freq=2]{.title-ref} \uac19\uc740 \uc774\uc720\ub85c \uac74\ub108\ub6f4 \ub2e8\uc5b4\uc785\ub2c8\ub2e4\n    -   [\\<pad\\>]{.title-ref} \ud328\ub529 \ud1a0\ud070. \ud6c8\ub828\uc911\uc5d0\ub294 \ubaa8\ub378\uc740 \uc8fc\ub85c \ubc30\uce58\ub85c\n        \ud559\uc2b5\ub429\ub2c8\ub2e4. \ubc30\uce58\uc5d0\uc11c\ub294 \uae38\uc774\uac00 \ub2e4\ub978 \ubb38\uc7a5\uc774 \uc788\uc744 \uc218 \uc788\uc2b5\ub2c8\ub2e4.\n        \ub530\ub77c\uc11c \ub354 \uc9e7\uc740 \ubb38\uc7a5\uc5d0 \ud328\ub529\uc744 \ucd94\uac00\ud558\uae30 \uc704\ud574,\n        [\\<pad\\>]{.title-ref} \ud1a0\ud070\uc744 \ucd94\uac00\ud558\uc5ec \ubc30\uce58\uc5d0 \ud3ec\ud568\ub41c \ubaa8\ub4e0\n        \uc2dc\ud000\uc2a4\uc758 \uae38\uc774\ub97c \ub3d9\uc77c\ud558\uac8c \ub9cc\ub4ed\ub2c8\ub2e4.\n-   5\ubc88\uc9f8 \uc904\uc5d0\uc11c, [special\\_first=True\\`\ub85c \uc124\uc815\ud569\ub2c8\ub2e4. \uc774 \uc758\ubbf8\ub294\n    ]{.title-ref}\\<pad\\>[\ub294 \uc778\ub371\uc2a4 0, ]{.title-ref}\\<sos\\>[\ub294 \uc778\ub371\uc2a4 1\uc744\n    \uc5bb\uc2b5\ub2c8\ub2e4. ]{.title-ref}\\<eos\\>\\`\ub294 \uc778\ub371\uc2a4 2, \\<unk\\>\ub294 \uc778\ub371\uc2a4 3\uc744\n    \uc5b4\ud718\uc5d0\uc11c \uc5bb\uac8c \ub429\ub2c8\ub2e4.\n-   7\ubc88\uc9f8 \uc904\uc5d0\uc11c, \uae30\ubcf8 \uc778\ub371\uc2a4\ub97c [\\<unk\\>]{.title-ref} \uc778\ub371\uc2a4\ub85c\n    \uc124\uc815\ud588\uc2b5\ub2c8\ub2e4. \uc989, \uc5b4\ub5a4 \ub2e8\uc5b4\uac00 \uc5b4\ud718\uc5d0 \uc5c6\ub2e4\uba74, \uadf8 \uc54c \uc218 \uc5c6\ub294 \ub2e8\uc5b4 \ub300\uc2e0\n    \\`\\<unk\\>\\`\ub97c \uc0ac\uc6a9\ud569\ub2c8\ub2e4.\n\n\ube44\uc2b7\ud558\uac8c, \ud0c0\uac9f \ubb38\uc7a5\uc5d0 \ub300\ud55c \uc5b4\ud718\ub97c \uad6c\ucd95\ud569\ub2c8\ub2e4\n"
      ]
    },
    {
      "cell_type": "code",
      "execution_count": null,
      "metadata": {
        "collapsed": false
      },
      "outputs": [],
      "source": [
        "target_vocab = build_vocab_from_iterator(\n    getTokens(data_pipe,1),\n    min_freq=2,\n    specials= ['<pad>', '<sos>', '<eos>', '<unk>'],\n    special_first=True\n)\ntarget_vocab.set_default_index(target_vocab['<unk>'])"
      ]
    },
    {
      "cell_type": "markdown",
      "metadata": {},
      "source": [
        "\uc5b4\ud718\uc5d0 \ud2b9\uc218 \ud1a0\ud070\uc744 \ucd94\uac00\ud558\ub294 \ubc29\ubc95\uc5d0 \uad00\ud55c \uc704\uc758 \uc608\uc81c\ub97c \ub208\uc5ec\uaca8\ubcf4\uc138\uc694. \ud2b9\uc218\n\ud1a0\ud070\uc740 \uc694\uad6c \uc0ac\ud56d\uc5d0 \ub530\ub77c \ubcc0\uacbd\ub420 \uc218 \uc788\uc2b5\ub2c8\ub2e4.\n\n\uc774\uc81c \ud2b9\uc218 \ud1a0\ud070\uc774 \ucc98\uc74c\uacfc \ub2e4\ub978 \ub2e8\uc5b4\uc5d0 \ub193\uc774\ub294 \uac83\uc744 \ud655\uc778\ud560 \uc218 \uc788\uc2b5\ub2c8\ub2e4. \uc544\ub798\n\ucf54\ub4dc\uc5d0\uc11c, \\`source\\_vocab.get\\_itos()\\`\ub294 \uc5b4\ud718 \uae30\ubc18\uc73c\ub85c \uc778\ub371\uc2f1\ub41c \ud1a0\ud070\uc758\n\ubaa9\ub85d\uc744 \ubc18\ud658\ud569\ub2c8\ub2e4.\n"
      ]
    },
    {
      "cell_type": "code",
      "execution_count": null,
      "metadata": {
        "collapsed": false
      },
      "outputs": [],
      "source": [
        "print(source_vocab.get_itos()[:9])"
      ]
    },
    {
      "cell_type": "markdown",
      "metadata": {},
      "source": [
        "\uc5b4\ud718\ub97c \uc0ac\uc6a9\ud558\uc5ec \ubb38\uc7a5\uc744 \uc218\uce58\ud654\ud558\uae30\n=================================\n\n\uc5b4\ud718\ub97c \uad6c\ucd95\ud55c \ud6c4\uc5d0\ub294, \ubb38\uc7a5\uc744 \ud574\ub2f9 \uc778\ub371\uc2a4\ub85c \ubcc0\ud658\ud574\uc57c \ud569\ub2c8\ub2e4 \uc774\ub97c \uc704\ud55c \uba87\n\uac00\uc9c0 \ud568\uc218\ub97c \uc815\uc758\ud574 \ubcf4\uaca0\uc2b5\ub2c8\ub2e4\n"
      ]
    },
    {
      "cell_type": "code",
      "execution_count": null,
      "metadata": {
        "collapsed": false
      },
      "outputs": [],
      "source": [
        "def getTransform(vocab):\n    \"\"\"\n    \uc8fc\uc5b4\uc9c4 \uc5b4\ud718\ub97c \uae30\ubc18\uc73c\ub85c transform\uc744 \uc0dd\uc131\ud569\ub2c8\ub2e4. \ub9ac\ud134\ub418\ub294 transform\uc740 \ud1a0\ud070 \uc2dc\ud038\uc2a4\uc5d0 \uc801\uc6a9\ub429\ub2c8\ub2e4\n    \"\"\"\n    text_tranform = T.Sequential(\n        ## \uc8fc\uc5b4\uc9c4 \uc5b4\ud718\ub97c \uae30\ubc18\uc73c\ub85c \ubb38\uc7a5\uc744 \uc778\ub371\uc2a4\ub85c \ubcc0\ud658\ud569\ub2c8\ub2e4\n        T.VocabTransform(vocab=vocab),\n        ##  \uac01 \ubb38\uc7a5\uc758 \uc2dc\uc791 \ubd80\ubd84\uc5d0 <sos>\ub97c \ucd94\uac00\ud569\ub2c8\ub2e4. 1 \uc740 \uc774\uc804 \uc139\uc158\uc5d0\uc11c \ubcf4\uc600\ub4ef\uc774 <sos>\uc758 \uc778\ub371\uc2a4\uac00\n        # 1\uc774\uae30 \ub54c\ubb38\uc785\ub2c8\ub2e4\n        T.AddToken(1, begin=True),\n        ##  \uac01 \ubb38\uc7a5\uc758 \uc2dc\uc791 \ubd80\ubd84\uc5d0 <eos>\ub97c \ucd94\uac00\ud569\ub2c8\ub2e4. 2 \ub294 \uc774\uc804 \uc139\uc158\uc5d0\uc11c \ubcf4\uc600\ub4ef\uc774 <eos>\uc758 \uc778\ub371\uc2a4\uac00\n        # 2\uc774\uae30 \ub54c\ubb38\uc785\ub2c8\ub2e4\n        T.AddToken(2, begin=False)\n    )\n    return text_tranform"
      ]
    },
    {
      "cell_type": "markdown",
      "metadata": {},
      "source": [
        "\uc774\uc81c \uc704\uc758 \ud568\uc218\ub97c \uc0ac\uc6a9\ud558\ub294 \ubc29\ubc95\uc744 \uc0b4\ud3b4\ubcf4\uaca0\uc2b5\ub2c8\ub2e4. \uc774 \ud568\uc218\ub294 \ubb38\uc7a5\uc5d0 \uc0ac\uc6a9\ud560\n\\`Transforms\\`\uc758 \uac1d\uccb4\ub97c \ubc18\ud658\ud569\ub2c8\ub2e4 \uc784\uc758\uc758 \ubb38\uc7a5\uc744 \uac00\uc838\uc640\uc11c transform\uc774\n\uc5b4\ub5bb\uac8c \uc791\ub3d9\ud558\ub294\uc9c0 \ud655\uc778\ud574 \ubcf4\uaca0\uc2b5\ub2c8\ub2e4.\n"
      ]
    },
    {
      "cell_type": "code",
      "execution_count": null,
      "metadata": {
        "collapsed": false
      },
      "outputs": [],
      "source": [
        "temp_list = list(data_pipe)\nsome_sentence = temp_list[798][0]\nprint(\"Some sentence=\", end=\"\")\nprint(some_sentence)\ntransformed_sentence = getTransform(source_vocab)(engTokenize(some_sentence))\nprint(\"Transformed sentence=\", end=\"\")\nprint(transformed_sentence)\nindex_to_string = source_vocab.get_itos()\nfor index in transformed_sentence:\n    print(index_to_string[index], end=\" \")"
      ]
    },
    {
      "cell_type": "markdown",
      "metadata": {},
      "source": [
        "\uc704 \ucf54\ub4dc\uc5d0\uc11c,\n\n-   2\ubc88\uc9f8 \uc904\uc5d0\uc11c, 1\ubc88\uc9f8 \uc904\uc758 \\`data\\_pipe\\`\uc5d0\uc11c \uc0dd\uc131\ud55c \ub9ac\uc2a4\ud2b8\ub85c \ub41c \uc18c\uc2a4\n    \ubb38\uc7a5\uc744 \uac00\uc838\uc635\ub2c8\ub2e4.\n-   5\ubc88\uc9f8 \uc904\uc5d0\uc11c, \uc18c\uc2a4 \uc5b4\ud718\ub97c \uae30\ubc18\ud55c transform\uc744 \uac00\uc838\uc640 \ud1a0\ud070\ud654\ub41c \ubb38\uc7a5\uc5d0\n    \uc801\uc6a9\ud569\ub2c8\ub2e4. \ubcc0\ud658\uc740 \ubb38\uc7a5\uc774 \uc544\ub2cc \ub2e8\uc5b4 \ub9ac\uc2a4\ud2b8\ub97c \uac00\uc838\uac04\ub2e4\ub294 \uc810\uc5d0\n    \uc720\uc758\ud558\uc138\uc694\n-   5\ubc88\uc9f8 \uc904\uc5d0\uc11c, \uc778\ub371\uc2f1\ub41c \ubb38\uc790\uc5f4\uc758 \ub9f5\ud551\uc744 \uac00\uc838\uc628 \ub2e4\uc74c \uc774\ub97c \uc0ac\uc6a9\ud558\uc5ec\n    transform \uc801\uc6a9\ub41c \ubb38\uc7a5\uc744 \uc5bb\uc2b5\ub2c8\ub2e4\n\n\uc774\uc81c DataPipe \ud568\uc218\ub97c \uc0ac\uc6a9\ud558\uc5ec \ubaa8\ub4e0 \ubb38\uc7a5\uc5d0 transform\uc744 \uc801\uc6a9\ud558\uaca0\uc2b5\ub2c8\ub2e4.\n\uc774\ub97c \uc704\ud574 \uba87 \uac00\uc9c0 \ud568\uc218\ub97c \ub354 \uc815\uc758\ud574 \ubcf4\uaca0\uc2b5\ub2c8\ub2e4.\n"
      ]
    },
    {
      "cell_type": "code",
      "execution_count": null,
      "metadata": {
        "collapsed": false
      },
      "outputs": [],
      "source": [
        "def applyTransform(sequence_pair):\n    \"\"\"\n    \uc2dc\ud000\uc2a4 \uc30d\uc758 \ud1a0\ud070 \uc2dc\ud000\uc2a4\uc5d0 transform\uc744 \uc801\uc6a9\ud569\ub2c8\ub2e4.\n    \"\"\"\n\n    return (\n        getTransform(source_vocab)(engTokenize(sequence_pair[0])),\n        getTransform(target_vocab)(deTokenize(sequence_pair[1]))\n    )\ndata_pipe = data_pipe.map(applyTransform) ## \ubc18\ubcf5\uc790\uc758 \uac01 \uc694\uc18c\uc5d0 \ud568\uc218\ub97c \uc801\uc6a9\ud569\ub2c8\ub2e4.\ntemp_list = list(data_pipe)\nprint(temp_list[0])"
      ]
    },
    {
      "cell_type": "markdown",
      "metadata": {},
      "source": [
        "\ubc30\uce58 \ub9cc\ub4e4\uae30 (\ubc84\ud0b7 \ubc30\uce58\uc640 \ud568\uaed8\ud558\ub294)\n==================================\n\n\uc77c\ubc18\uc801\uc73c\ub85c \ubaa8\ub378\uc744 \ubc30\uce58\ub85c \ud6c8\ub828\ud569\ub2c8\ub2e4. \uc2dc\ud000\uc2a4 \ub300 \uc2dc\ud000\uc2a4 \ubaa8\ub378\uc5d0 \ub300\ud574\n\uc791\uc5c5\ud560\ub54c\ub294, \ubc30\uce58\uc5d0 \ud3ec\ud568\ub41c \uc2dc\ud000\uc2a4\uc758 \uae38\uc774\ub97c \ube44\uc2b7\ud558\uac8c \uc720\uc9c0\ud558\ub294 \uac83\uc774\n\ucd94\ucc9c\ub429\ub2c8\ub2e4. \uc774\ub97c \uc704\ud574\uc11c [data\\_pipe\\`\uc758 \\`bucketbatch]{.title-ref}\n\ud568\uc218\ub97c \uc0ac\uc6a9\ud569\ub2c8\ub2e4.\n\n[bucketbatch]{.title-ref} \ud568\uc218\uc5d0\uc11c \uc0ac\uc6a9\ud560 \uba87 \uac00\uc9c0 \ud568\uc218\ub97c \uc815\uc758\ud574\n\ubcf4\uaca0\uc2b5\ub2c8\ub2e4.\n"
      ]
    },
    {
      "cell_type": "code",
      "execution_count": null,
      "metadata": {
        "collapsed": false
      },
      "outputs": [],
      "source": [
        "def sortBucket(bucket):\n    \"\"\"\n    \uc8fc\uc5b4\uc9c4 \ubc84\ud0b7\uc744 \uc815\ub82c\ud558\ub294 \ud568\uc218\uc785\ub2c8\ub2e4. \uc5ec\uae30\uc11c\ub294 \uc18c\uc2a4 \ubc0f \ud0c0\uac9f \uc2dc\ud000\uc2a4\uc758 \uae38\uc774\ub97c\n    \uae30\uc900\uc73c\ub85c \uc815\ub82c\ud558\ub824\uace0 \ud569\ub2c8\ub2e4.\n    \"\"\"\n    return sorted(bucket, key=lambda x: (len(x[0]), len(x[1])))"
      ]
    },
    {
      "cell_type": "markdown",
      "metadata": {},
      "source": [
        "\uc774\uc81c [bucketbatch]{.title-ref} \ud568\uc218\ub97c \uc801\uc6a9\ud574 \ubcf4\uaca0\uc2b5\ub2c8\ub2e4\n"
      ]
    },
    {
      "cell_type": "code",
      "execution_count": null,
      "metadata": {
        "collapsed": false
      },
      "outputs": [],
      "source": [
        "data_pipe = data_pipe.bucketbatch(\n    batch_size = 4, batch_num=5,  bucket_num=1,\n    use_in_batch_shuffle=False, sort_key=sortBucket\n)"
      ]
    },
    {
      "cell_type": "markdown",
      "metadata": {},
      "source": [
        "\uc704\uc758 \ucf54\ub4dc \ube14\ub85d\uc5d0\uc11c\n\n> -   \ubc30\uce58 \ud06c\uae30\ub97c 4\ub85c \uc720\uc9c0\ud569\ub2c8\ub2e4.\n> -   \\`batch\\_num\\`\uc740 \ubc84\ud0b7\uc5d0 \ubcf4\uad00\ud560 \ubc30\uce58\uc758 \uc218\uc785\ub2c8\ub2e4\n> -   \\`bucket\\_num\\`\uc740 \uc154\ud50c\uc744 \uc704\ud574 \ud480\uc5d0 \ubcf4\uad00\ud560 \ubc84\ud0b7\uc758 \uc218\uc785\ub2c8\ub2e4.\n> -   \\`sort\\_key\\`\ub294 \ubc84\ud0b7\uc744 \uac00\uc838\uc640\uc11c \uc815\ub82c\ud558\ub294 \ud568\uc218\ub97c \uc9c0\uc815\ud569\ub2c8\ub2e4.\n\n\uc774\uc81c \uc18c\uc2a4 \ubb38\uc7a5 \ubb36\uc74c\uc744 [X\\`\ub85c, \ud0c0\uac9f \ubb38\uc7a5 \ubb36\uc74c\uc744 \\`y\\`\ub85c \uac00\uc815\ud574\n\ubcf4\uaca0\uc2b5\ub2c8\ub2e4. \uc77c\ubc18\uc801\uc73c\ub85c \ubaa8\ub378\uc744 \ud559\uc2b5\ud560 \ub54c\ub294 \\`X\\`\uc758 \ubc30\uce58\uc5d0 \ub300\ud574 \uc608\uce21\ud558\uace0\n\uadf8 \uacb0\uacfc\ub97c \\`y\\`\uc640 \ube44\uad50\ud569\ub2c8\ub2e4. \ud558\uc9c0\ub9cc \uc774\ubc88 \\`data\\_pipe\\`\uc758 \ubc30\uce58\ub294\n]{.title-ref}\\[(X\\_1,y\\_1), (X\\_2,y\\_2), (X\\_3,y\\_3), (X\\_4,y\\_4)\\]\\`\uc758\n\ud615\uc2dd\uc785\ub2c8\ub2e4.\n"
      ]
    },
    {
      "cell_type": "code",
      "execution_count": null,
      "metadata": {
        "collapsed": false
      },
      "outputs": [],
      "source": [
        "print(list(data_pipe)[0])"
      ]
    },
    {
      "cell_type": "markdown",
      "metadata": {},
      "source": [
        "\uc774\uc81c \uc544\ub798\uc640 \uac19\uc740 \ud615\uc2dd\uc73c\ub85c \ubcc0\ud658\ud574 \ubcf4\uaca0\uc2b5\ub2c8\ub2e4: [((X\\_1,X\\_2,X\\_3,X\\_4),\n(y\\_1,y\\_2,y\\_3,y\\_4))]{.title-ref} \uc774\ub97c \uc704\ud574 \uc791\uc740 \ud568\uc218\ub97c \uc791\uc131\ud558\uaca0\uc2b5\ub2c8\ub2e4\n"
      ]
    },
    {
      "cell_type": "code",
      "execution_count": null,
      "metadata": {
        "collapsed": false
      },
      "outputs": [],
      "source": [
        "def separateSourceTarget(sequence_pairs):\n    \"\"\"\n    \uc785\ub825 \ud615\uc2dd: `[(X_1,y_1), (X_2,y_2), (X_3,y_3), (X_4,y_4)]`\n    \ucd9c\ub825 \ud615\uc2dd: `((X_1,X_2,X_3,X_4), (y_1,y_2,y_3,y_4))`\n    \"\"\"\n    sources,targets = zip(*sequence_pairs)\n    return sources,targets\n\n## \ubc18\ubcf5\uc790\uc758 \uac01 \uc694\uc18c\uc5d0 \ud568\uc218\ub97c \uc801\uc6a9\ud569\ub2c8\ub2e4\ndata_pipe = data_pipe.map(separateSourceTarget)\nprint(list(data_pipe)[0])"
      ]
    },
    {
      "cell_type": "markdown",
      "metadata": {},
      "source": [
        "\uc774\uc81c \uc6d0\ud558\ub294 \ub370\uc774\ud130\ub97c \uc5bb\uc5c8\uc2b5\ub2c8\ub2e4\n\n\ud328\ub529\n====\n\n\uc55e\uc11c \uc124\uba85\ud55c \uac83\ucc98\ub7fc \uc5b4\ud718\ub97c \uad6c\ucd95\ud560 \ub54c, \ubc30\uce58\uc5d0\uc11c \ubaa8\ub4e0 \uc2dc\ud000\uc2a4\ub97c \ub3d9\uc77c\ud55c\n\uae38\uc774\ub85c \ub9cc\ub4e4\uae30 \uc704\ud574 \uc9e7\uc740 \ubb38\uc7a5\uc740 \ud328\ub529\ud558\uac8c \ub429\ub2c8\ub2e4. \ud328\ub529\uc740 \ub2e4\uc74c\uacfc \uac19\uc774\n\uc218\ud589\ud560 \uc218 \uc788\uc2b5\ub2c8\ub2e4.\n"
      ]
    },
    {
      "cell_type": "code",
      "execution_count": null,
      "metadata": {
        "collapsed": false
      },
      "outputs": [],
      "source": [
        "def applyPadding(pair_of_sequences):\n    \"\"\"\n    \uc2dc\ud000\uc2a4\ub97c tensor\ub85c \ubcc0\ud658\ud558\uace0 \ud328\ub529\uc744 \uc801\uc6a9\ud569\ub2c8\ub2e4\n    \"\"\"\n    return (T.ToTensor(0)(list(pair_of_sequences[0])), T.ToTensor(0)(list(pair_of_sequences[1])))\n## `T.ToTensor(0)`\ub294 \uc2dc\ud000\uc2a4\ub97c `torch.tensor`\ub85c \ubcc0\ud658\ud558\ub294 transform\uc744 \ubc18\ud658\ud558\uace0 \ub610\ud55c \ud328\ub529\ub3c4 \uc801\uc6a9\ud569\ub2c8\ub2e4.\n# \uc5ec\uae30\uc11c `0`\uc740 \uc0dd\uc131\uc790\uc5d0 \uc804\ub2ec\ub418\uc5b4, \uc5b4\ud718\uc5d0 \uc788\ub294`<pad>` \ud1a0\ud070\uc758 \uc778\ub371\uc2a4\ub97c \uc9c0\uc815\ud569\ub2c8\ub2e4\ndata_pipe = data_pipe.map(applyPadding)"
      ]
    },
    {
      "cell_type": "markdown",
      "metadata": {},
      "source": [
        "\uc774\uc81c \uc778\ub371\uc2a4 \ub300\uc2e0\uc5d0, \uc778\ub371\uc2f1\ub41c \ubb38\uc790\uc5f4 \ub9e4\ud551\uc744 \uc0ac\uc6a9\ud558\uc5ec \ud1a0\ud070\ud654\ub41c \uc2dc\ud000\uc2a4\uac00\n\uc5b4\ub5bb\uac8c \ubcf4\uc774\ub294\uc9c0 \ud655\uc778\ud560 \uc218 \uc788\uc2b5\ub2c8\ub2e4.\n"
      ]
    },
    {
      "cell_type": "code",
      "execution_count": null,
      "metadata": {
        "collapsed": false
      },
      "outputs": [],
      "source": [
        "source_index_to_string = source_vocab.get_itos()\ntarget_index_to_string = target_vocab.get_itos()\n\ndef showSomeTransformedSentences(data_pipe):\n    \"\"\"\n    \ubaa8\ub4e0 transform\uc744 \uc801\uc6a9\ud55c \ud6c4 \ubb38\uc7a5\uc774 \uc5b4\ub5bb\uac8c \ubcf4\uc774\ub294\uc9c0 \ubcf4\uc5ec\uc8fc\ub294 \ud568\uc218\uc785\ub2c8\ub2e4.\n    \uc5ec\uae30\uc11c\ub294 \ud574\ub2f9 \uc778\ub371\uc2a4 \ub300\uc2e0 \uc2e4\uc81c \ub2e8\uc5b4\ub97c \ucd9c\ub825\ud558\ub824\uace0 \ud569\ub2c8\ub2e4.\n    \"\"\"\n    for sources,targets in data_pipe:\n        if sources[0][-1] != 0:\n            continue # \uc9e7\uc740 \ubb38\uc7a5\uc758 \ud328\ub529\ub9cc \ubcf4\uc774\uae30 \uc704\ud574\n        for i in range(4):\n            source = \"\"\n            for token in sources[i]:\n                source += \" \" + source_index_to_string[token]\n            target = \"\"\n            for token in targets[i]:\n                target += \" \" + target_index_to_string[token]\n            print(f\"Source: {source}\")\n            print(f\"Traget: {target}\")\n        break\n\nshowSomeTransformedSentences(data_pipe)"
      ]
    },
    {
      "cell_type": "markdown",
      "metadata": {},
      "source": [
        "\uc704\uc758 \ucd9c\ub825\uc5d0\uc11c \uc9e7\uc740 \ubb38\uc7a5\uc774 \\`\\<pad\\>\\`\ub85c \ucc44\uc6cc\uc9c4 \uac83\uc744 \uad00\ucc30 \ud560 \uc218 \uc788\uc2b5\ub2c8\ub2e4.\n\uc774\uc81c, \ud6c8\ub828 \ud568\uc218\ub97c \uc791\uc131\ud558\ub294 \ub3d9\uc548 \\`data\\_pipe\\`\ub97c \uc0ac\uc6a9\ud560 \uc218 \uc788\uc2b5\ub2c8\ub2e4.\n\n\ud29c\ud1a0\ub9ac\uc5bc\uc758 \uc77c\ubd80\ub294 [\uc774\n\ubb38\uc11c](https://medium.com/@bitdribble/migrate-torchtext-to-the-new-0-9-0-api-1ff1472b5d71)\n\uc5d0\uc11c \uc601\ud5a5\uc744 \ubc1b\uc558\uc2b5\ub2c8\ub2e4.\n"
      ]
    }
  ],
  "metadata": {
    "kernelspec": {
      "display_name": "Python 3",
      "language": "python",
      "name": "python3"
    },
    "language_info": {
      "codemirror_mode": {
        "name": "ipython",
        "version": 3
      },
      "file_extension": ".py",
      "mimetype": "text/x-python",
      "name": "python",
      "nbconvert_exporter": "python",
      "pygments_lexer": "ipython3",
      "version": "3.10.14"
    }
  },
  "nbformat": 4,
  "nbformat_minor": 0
}