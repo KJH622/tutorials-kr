{
  "cells": [
    {
      "cell_type": "code",
      "execution_count": null,
      "metadata": {
        "collapsed": false
      },
      "outputs": [],
      "source": [
        "# Google Colab\uc5d0\uc11c \ub178\ud2b8\ubd81\uc744 \uc2e4\ud589\ud558\uc2e4 \ub54c\uc5d0\ub294 \n# https://tutorials.pytorch.kr/beginner/colab \ub97c \ucc38\uace0\ud558\uc138\uc694.\n%matplotlib inline"
      ]
    },
    {
      "cell_type": "markdown",
      "metadata": {},
      "source": [
        "**Introduction to ONNX** \\|\\| [Exporting a PyTorch model to\nONNX](export_simple_model_to_onnx_tutorial.html) \\|\\| [Extending the\nONNX Registry](onnx_registry_tutorial.html)\n\nIntroduction to ONNX\n====================\n\nAuthors: [Thiago Crepaldi](https://github.com/thiagocrepaldi),\n\n[Open Neural Network eXchange (ONNX)](https://onnx.ai/) is an open\nstandard format for representing machine learning models. The\n`torch.onnx` module provides APIs to capture the computation graph from\na native PyTorch `torch.nn.Module`{.interpreted-text role=\"class\"} model\nand convert it into an [ONNX\ngraph](https://github.com/onnx/onnx/blob/main/docs/IR.md).\n\nThe exported model can be consumed by any of the many [runtimes that\nsupport ONNX](https://onnx.ai/supported-tools.html#deployModel),\nincluding Microsoft\\'s [ONNX Runtime](https://www.onnxruntime.ai).\n\n```{=html}\n<div style=\"background-color: #54c7ec; color: #fff; font-weight: 700; padding-left: 10px; padding-top: 5px; padding-bottom: 5px\"><strong>NOTE:</strong></div>\n```\n```{=html}\n<div style=\"background-color: #f3f4f7; padding-left: 10px; padding-top: 10px; padding-bottom: 10px; padding-right: 10px\">\n```\n```{=html}\n<p>Currently, there are two flavors of ONNX exporter APIs,but this tutorial will focus on the <code>torch.onnx.dynamo_export</code>.</p>\n```\n```{=html}\n</div>\n```\nThe TorchDynamo engine is leveraged to hook into Python\\'s frame\nevaluation API and dynamically rewrite its bytecode into an [FX\ngraph](https://pytorch.org/docs/stable/fx.html). The resulting FX Graph\nis polished before it is finally translated into an [ONNX\ngraph](https://github.com/onnx/onnx/blob/main/docs/IR.md).\n\nThe main advantage of this approach is that the [FX\ngraph](https://pytorch.org/docs/stable/fx.html) is captured using\nbytecode analysis that preserves the dynamic nature of the model instead\nof using traditional static tracing techniques.\n\nDependencies\n------------\n\nPyTorch 2.1.0 or newer is required.\n\nThe ONNX exporter depends on extra Python packages:\n\n> -   [ONNX](https://onnx.ai) standard library\n> -   [ONNX Script](https://onnxscript.ai) library that enables\n>     developers to author ONNX operators, functions and models using a\n>     subset of Python in an expressive, and yet simple fashion.\n\nThey can be installed through [pip](https://pypi.org/project/pip/):\n\n``` {.bash}\npip install --upgrade onnx onnxscript\n```\n\nTo validate the installation, run the following commands:\n\n``` {.python}\nimport torch\nprint(torch.__version__)\n\nimport onnxscript\nprint(onnxscript.__version__)\n\nfrom onnxscript import opset18  # opset 18 is the latest (and only) supported version for now\n\nimport onnxruntime\nprint(onnxruntime.__version__)\n```\n\nEach [import]{.title-ref} must succeed without any errors and the\nlibrary versions must be printed out.\n\nFurther reading\n---------------\n\nThe list below refers to tutorials that ranges from basic examples to\nadvanced scenarios, not necessarily in the order they are listed. Feel\nfree to jump directly to specific topics of your interest or sit tight\nand have fun going through all of them to learn all there is about the\nONNX exporter.\n\n::: {.toctree hidden=\"\"}\n:::\n"
      ]
    }
  ],
  "metadata": {
    "kernelspec": {
      "display_name": "Python 3",
      "language": "python",
      "name": "python3"
    },
    "language_info": {
      "codemirror_mode": {
        "name": "ipython",
        "version": 3
      },
      "file_extension": ".py",
      "mimetype": "text/x-python",
      "name": "python",
      "nbconvert_exporter": "python",
      "pygments_lexer": "ipython3",
      "version": "3.10.14"
    }
  },
  "nbformat": 4,
  "nbformat_minor": 0
}